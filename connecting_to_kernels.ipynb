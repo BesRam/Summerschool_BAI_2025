{
 "cells": [
  {
   "cell_type": "markdown",
   "id": "3e201611",
   "metadata": {},
   "source": [
    "# Connecting to Kernels in Codespaces\n",
    "\n",
    "This notebook covers how to work with Jupyter kernels in GitHub Codespaces, including:\n",
    "- Starting a Jupyter kernel in uv environments\n",
    "- Managing kernels and Python interpreters in VS Code\n",
    "- Installing packages and working with different environments\n",
    "\n",
    "Let's get started!"
   ]
  },
  {
   "cell_type": "markdown",
   "id": "5253ccea",
   "metadata": {},
   "source": [
    "## Working with Jupyter Kernels in Codespaces\n",
    "\n",
    "When working with GitHub Codespaces, you can connect to different Python kernels that are running in the same Codespaces environment. This is useful when you want to work with different environments or manage multiple notebook sessions within your development container."
   ]
  },
  {
   "cell_type": "markdown",
   "id": "44b45258",
   "metadata": {},
   "source": [
    "### Step 1: Check Available Kernels in Codespaces\n",
    "\n",
    "In GitHub Codespaces, you can see and manage your kernel connections through VS Code's interface:"
   ]
  },
  {
   "cell_type": "code",
   "execution_count": 8,
   "id": "01095a3c",
   "metadata": {},
   "outputs": [
    {
     "name": "stdout",
     "output_type": "stream",
     "text": [
      "Python version: 3.12.1 (main, May 30 2025, 12:50:35) [GCC 13.3.0]\n",
      "Python executable: /workspaces/Summerschool_BAI_2025/.venv/bin/python3\n",
      "✓ Running in GitHub Codespaces\n",
      "Codespace name: redesigned-waddle-j4jwpqvg6qcj755\n"
     ]
    }
   ],
   "source": [
    "# Check Python version and available packages in current kernel\n",
    "import sys\n",
    "import os\n",
    "print(f\"Python version: {sys.version}\")\n",
    "print(f\"Python executable: {sys.executable}\")\n",
    "\n",
    "# Check if we're in a Codespaces environment\n",
    "if os.environ.get('CODESPACES'):\n",
    "    print(\"✓ Running in GitHub Codespaces\")\n",
    "    print(f\"Codespace name: {os.environ.get('CODESPACE_NAME', 'Unknown')}\")\n",
    "else:\n",
    "    print(\"✗ Not running in GitHub Codespaces\")"
   ]
  },
  {
   "cell_type": "markdown",
   "id": "c3067fc4",
   "metadata": {},
   "source": [
    "### Step 2: Managing Kernels in Codespaces\n",
    "\n",
    "In GitHub Codespaces with VS Code, you can:\n",
    "1. **Check kernel status** - Look at the top right corner of the notebook to see the active kernel\n",
    "2. **Select kernel** - Click on the kernel name to choose from available Python interpreters\n",
    "3. **Restart kernel** - Use the \"Restart\" button in the notebook toolbar\n",
    "4. **Change Python interpreter** - Use Ctrl+Shift+P and search for \"Python: Select Interpreter\"\n",
    "5. **Work with uv environments** - Select the Python interpreter from your uv virtual environment"
   ]
  },
  {
   "cell_type": "code",
   "execution_count": 12,
   "id": "8c4c34a3",
   "metadata": {},
   "outputs": [
    {
     "name": "stdout",
     "output_type": "stream",
     "text": [
      "In Codespaces, you can install packages using:\n",
      "!uv add package_name  # Recommended: adds to project dependencies\n",
      "!uv pip install package_name  # Direct installation\n",
      "!pip install package_name  # Traditional pip installation\n",
      "\n",
      "All packages will be available in the same notebook session!\n",
      "For permanent dependencies, use 'uv add' to update pyproject.toml\n"
     ]
    }
   ],
   "source": [
    "# Install packages in the current Codespaces kernel\n",
    "# This will be available in the same kernel session\n",
    "\n",
    "# Example: Install a package in the current kernel\n",
    "# !pip install package_name\n",
    "\n",
    "# Using uv in Codespaces (recommended for this project)\n",
    "# !uv add package_name  # Adds to pyproject.toml and installs\n",
    "# !uv pip install package_name  # Direct pip-style installation\n",
    "\n",
    "print(\"In Codespaces, you can install packages using:\")\n",
    "print(\"!uv add package_name  # Recommended: adds to project dependencies\")\n",
    "print(\"!uv pip install package_name  # Direct installation\")\n",
    "print(\"!pip install package_name  # Traditional pip installation\")\n",
    "print(\"\\nAll packages will be available in the same notebook session!\")\n",
    "print(\"For permanent dependencies, use 'uv add' to update pyproject.toml\")"
   ]
  },
  {
   "cell_type": "markdown",
   "id": "32c16fa6",
   "metadata": {},
   "source": [
    "### Step 3: Working with Your Codespaces Kernel\n",
    "\n",
    "Once you're in GitHub Codespaces, everything runs in the same kernel session:\n",
    "\n",
    "1. **Install packages** - Use `!uv add`, `!uv pip install`, or `!pip install` commands\n",
    "2. **Import libraries** - All installed packages are immediately available\n",
    "3. **Run code** - Execute cells normally, everything shares the same Python environment\n",
    "4. **Persistent session** - Variables and imports persist across cells until you restart the kernel\n",
    "5. **Switch kernels** - Use the kernel selector to switch between different Python environments\n",
    "\n",
    "**Key Points:**\n",
    "- Each notebook in Codespaces can use different kernels/interpreters\n",
    "- All cells in the same notebook share the same Python environment\n",
    "- Packages installed with `!uv add` are added to your project's pyproject.toml\n",
    "- Kernel restarts clear all variables but keep installed packages\n",
    "- You can select different Python interpreters including uv virtual environments"
   ]
  },
  {
   "cell_type": "markdown",
   "id": "1eaaaae7",
   "metadata": {},
   "source": [
    "## Summary\n",
    "\n",
    "In this notebook, we covered:\n",
    "\n",
    "### Jupyter Kernels in Codespaces:\n",
    "- How to check your current kernel environment in GitHub Codespaces\n",
    "- Managing kernels and Python interpreters in VS Code\n",
    "- Installing packages with uv in Codespaces\n",
    "- Working with different Python environments\n",
    "\n",
    "### Key Takeaways:\n",
    "- Each notebook in Codespaces can use different kernels/interpreters\n",
    "- All cells in the same notebook share the same Python environment\n",
    "- Packages installed with `!uv add` are added to your project's pyproject.toml\n",
    "- Kernel restarts clear all variables but keep installed packages\n",
    "- You can select different Python interpreters including uv virtual environments\n",
    "\n",
    "### Next Steps:\n",
    "- Switch between different Python kernels in your Codespaces environment\n",
    "- Try working with different uv environments\n",
    "- Explore the kernel selector in VS Code\n",
    "- Check out the companion notebook: **intro_to_gradio.ipynb** for creating web interfaces\n",
    "\n",
    "Happy coding! 🚀"
   ]
  }
 ],
 "metadata": {
  "kernelspec": {
   "display_name": "Python 3",
   "language": "python",
   "name": "python3"
  },
  "language_info": {
   "codemirror_mode": {
    "name": "ipython",
    "version": 3
   },
   "file_extension": ".py",
   "mimetype": "text/x-python",
   "name": "python",
   "nbconvert_exporter": "python",
   "pygments_lexer": "ipython3",
   "version": "3.12.1"
  }
 },
 "nbformat": 4,
 "nbformat_minor": 5
}
