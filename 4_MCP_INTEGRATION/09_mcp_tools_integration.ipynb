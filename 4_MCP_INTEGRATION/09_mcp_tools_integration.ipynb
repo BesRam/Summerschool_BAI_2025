{
 "cells": [
  {
   "cell_type": "markdown",
   "id": "f856350c",
   "metadata": {},
   "source": [
    "# Exercise 9: Understanding MCP Tools\n",
    "## Creating and Consuming MCP Tools with FastMCP and LangChain\n",
    "\n",
    "In this notebook, we'll learn how to create MCP (Model Context Protocol) tools using FastMCP and how to consume them in LangChain for financial data processing.\n",
    "\n",
    "## Learning Objectives\n",
    "- Understand MCP concepts and architecture\n",
    "- Create MCP tools using FastMCP framework\n",
    "- Set up mock MCP server for financial data\n",
    "- Load and test MCP tools in LangChain\n",
    "- Handle async operations with MCP tools\n",
    "\n",
    "Let's explore the power of MCP tools for financial applications! 🔧📊💰"
   ]
  },
  {
   "cell_type": "markdown",
   "id": "25a5f0e7",
   "metadata": {},
   "source": [
    "## Setup and Imports\n",
    "\n",
    "First, let's install the required packages and set up our environment."
   ]
  },
  {
   "cell_type": "code",
   "execution_count": 1,
   "id": "5c30d1b4",
   "metadata": {},
   "outputs": [
    {
     "name": "stdout",
     "output_type": "stream",
     "text": [
      "\u001b[1m\u001b[33mwarning\u001b[39m\u001b[0m\u001b[1m:\u001b[0m \u001b[1mNo `requires-python` value found in the workspace. Defaulting to `>=3.12`.\u001b[0m\n",
      "\u001b[2K\u001b[2mResolved \u001b[1m392 packages\u001b[0m \u001b[2min 7.08s\u001b[0m\u001b[0m                                       \u001b[0m\n",
      "\u001b[2K\u001b[37m⠙\u001b[0m \u001b[2mpyobjc-framework-metrickit==11.1                                              \u001b[0m\u001b[2mAudited \u001b[1m223 packages\u001b[0m \u001b[2min 8ms\u001b[0m\u001b[0m\n"
     ]
    }
   ],
   "source": [
    "# Install required packages\n",
    "!uv add fastmcp langchain langchain-openai mcp python-dotenv scikit-learn joblib requests numpy pandas"
   ]
  },
  {
   "cell_type": "code",
   "execution_count": 2,
   "id": "456cb3ca",
   "metadata": {},
   "outputs": [
    {
     "name": "stdout",
     "output_type": "stream",
     "text": [
      "✓ Setup complete!\n",
      "✓ Ready to explore MCP tools!\n"
     ]
    }
   ],
   "source": [
    "# Import necessary libraries\n",
    "import os\n",
    "import json\n",
    "import asyncio\n",
    "import logging\n",
    "from typing import List, Tuple, Dict, Any\n",
    "from dotenv import load_dotenv\n",
    "import pandas as pd\n",
    "import numpy as np\n",
    "\n",
    "# LangChain imports\n",
    "from langchain_openai import ChatOpenAI\n",
    "from langchain.agents import AgentExecutor, create_tool_calling_agent\n",
    "from langchain.prompts import ChatPromptTemplate, MessagesPlaceholder\n",
    "from langchain.tools import Tool\n",
    "\n",
    "# Load environment variables\n",
    "load_dotenv()\n",
    "\n",
    "# Set up logging\n",
    "logging.basicConfig(level=logging.INFO)\n",
    "logger = logging.getLogger(__name__)\n",
    "\n",
    "print(\"✓ Setup complete!\")\n",
    "print(\"✓ Ready to explore MCP tools!\")"
   ]
  },
  {
   "cell_type": "markdown",
   "id": "5a05eb34",
   "metadata": {},
   "source": [
    "## Part 1: Understanding MCP Architecture\n",
    "\n",
    "MCP (Model Context Protocol) enables AI assistants to securely connect to external tools and data sources. Let's understand the key concepts."
   ]
  },
  {
   "cell_type": "code",
   "execution_count": 3,
   "id": "7668ef6a",
   "metadata": {},
   "outputs": [
    {
     "name": "stdout",
     "output_type": "stream",
     "text": [
      "🏗️ MCP ARCHITECTURE CONCEPTS\n",
      "==================================================\n",
      "\n",
      "🔹 MCP Server:\n",
      "   What: Exposes tools and resources to clients\n",
      "   Role: Provides secure access to external capabilities\n",
      "   Example: Financial data server with ML models\n",
      "\n",
      "🔹 MCP Client:\n",
      "   What: Consumes tools from MCP servers\n",
      "   Role: LangChain agent that uses MCP tools\n",
      "   Example: AI assistant using financial tools\n",
      "\n",
      "🔹 Tools:\n",
      "   What: Functions exposed by MCP server\n",
      "   Role: Specific capabilities (predict, analyze, etc.)\n",
      "   Example: train_model(), predict_shipment()\n",
      "\n",
      "🔹 Resources:\n",
      "   What: Data sources exposed by server\n",
      "   Role: Access to files, databases, APIs\n",
      "   Example: Financial datasets, market data\n",
      "\n",
      "🔹 Transport:\n",
      "   What: Communication protocol\n",
      "   Role: HTTP, WebSocket, or other protocols\n",
      "   Example: streamable-http on port 8000\n",
      "\n",
      "✅ MCP architecture concepts covered!\n"
     ]
    }
   ],
   "source": [
    "# MCP Architecture Overview\n",
    "print(\"🏗️ MCP ARCHITECTURE CONCEPTS\")\n",
    "print(\"=\" * 50)\n",
    "\n",
    "mcp_concepts = {\n",
    "    \"MCP Server\": {\n",
    "        \"description\": \"Exposes tools and resources to clients\",\n",
    "        \"role\": \"Provides secure access to external capabilities\",\n",
    "        \"example\": \"Financial data server with ML models\"\n",
    "    },\n",
    "    \"MCP Client\": {\n",
    "        \"description\": \"Consumes tools from MCP servers\",\n",
    "        \"role\": \"LangChain agent that uses MCP tools\",\n",
    "        \"example\": \"AI assistant using financial tools\"\n",
    "    },\n",
    "    \"Tools\": {\n",
    "        \"description\": \"Functions exposed by MCP server\",\n",
    "        \"role\": \"Specific capabilities (predict, analyze, etc.)\",\n",
    "        \"example\": \"train_model(), predict_shipment()\"\n",
    "    },\n",
    "    \"Resources\": {\n",
    "        \"description\": \"Data sources exposed by server\",\n",
    "        \"role\": \"Access to files, databases, APIs\",\n",
    "        \"example\": \"Financial datasets, market data\"\n",
    "    },\n",
    "    \"Transport\": {\n",
    "        \"description\": \"Communication protocol\",\n",
    "        \"role\": \"HTTP, WebSocket, or other protocols\",\n",
    "        \"example\": \"streamable-http on port 8000\"\n",
    "    }\n",
    "}\n",
    "\n",
    "for concept, details in mcp_concepts.items():\n",
    "    print(f\"\\n🔹 {concept}:\")\n",
    "    print(f\"   What: {details['description']}\")\n",
    "    print(f\"   Role: {details['role']}\")\n",
    "    print(f\"   Example: {details['example']}\")\n",
    "\n",
    "print(\"\\n✅ MCP architecture concepts covered!\")"
   ]
  },
  {
   "cell_type": "markdown",
   "id": "56c48c67",
   "metadata": {},
   "source": [
    "## Part 2: Creating MCP Tools with FastMCP\n",
    "\n",
    "Let's examine how to create MCP tools using the FastMCP framework, based on our existing `mcp_tool.py`."
   ]
  },
  {
   "cell_type": "code",
   "execution_count": 4,
   "id": "22b71dfa",
   "metadata": {},
   "outputs": [
    {
     "name": "stdout",
     "output_type": "stream",
     "text": [
      "🛠️ FASTMCP TOOL CREATION PATTERNS\n",
      "==================================================\n",
      "📝 FastMCP Tool Pattern:\n",
      "\n",
      "from fastmcp import FastMCP\n",
      "\n",
      "# Initialize FastMCP server\n",
      "mcp = FastMCP(name=\"financial-tools\")\n",
      "\n",
      "@mcp.tool()\n",
      "def financial_analysis(data: List[Tuple[int, float]]) -> str:\n",
      "    \"\"\"Analyze financial data and return insights.\n",
      "\n",
      "    Args:\n",
      "        data: List of (timestamp, value) tuples\n",
      "\n",
      "    Returns:\n",
      "        str: Analysis results\n",
      "    \"\"\"\n",
      "    # Tool implementation\n",
      "    return \"Analysis complete\"\n",
      "\n",
      "# Run the server\n",
      "if __name__ == \"__main__\":\n",
      "    mcp.run(transport=\"streamable-http\", port=8000)\n",
      "\n",
      "\n",
      "🔑 Key FastMCP Features:\n",
      "  1. Simple @mcp.tool() decorator\n",
      "  2. Automatic type validation\n",
      "  3. Built-in HTTP transport\n",
      "  4. Async support\n",
      "  5. Automatic OpenAPI documentation\n",
      "  6. Error handling\n",
      "\n",
      "✅ FastMCP patterns explained!\n"
     ]
    }
   ],
   "source": [
    "# FastMCP Tool Creation Pattern\n",
    "print(\"🛠️ FASTMCP TOOL CREATION PATTERNS\")\n",
    "print(\"=\" * 50)\n",
    "\n",
    "# Show the pattern for creating MCP tools\n",
    "mcp_tool_pattern = '''\n",
    "from fastmcp import FastMCP\n",
    "\n",
    "# Initialize FastMCP server\n",
    "mcp = FastMCP(name=\"financial-tools\")\n",
    "\n",
    "@mcp.tool()\n",
    "def financial_analysis(data: List[Tuple[int, float]]) -> str:\n",
    "    \"\"\"Analyze financial data and return insights.\n",
    "    \n",
    "    Args:\n",
    "        data: List of (timestamp, value) tuples\n",
    "        \n",
    "    Returns:\n",
    "        str: Analysis results\n",
    "    \"\"\"\n",
    "    # Tool implementation\n",
    "    return \"Analysis complete\"\n",
    "\n",
    "# Run the server\n",
    "if __name__ == \"__main__\":\n",
    "    mcp.run(transport=\"streamable-http\", port=8000)\n",
    "'''\n",
    "\n",
    "print(\"📝 FastMCP Tool Pattern:\")\n",
    "print(mcp_tool_pattern)\n",
    "\n",
    "print(\"\\n🔑 Key FastMCP Features:\")\n",
    "features = [\n",
    "    \"Simple @mcp.tool() decorator\",\n",
    "    \"Automatic type validation\",\n",
    "    \"Built-in HTTP transport\",\n",
    "    \"Async support\",\n",
    "    \"Automatic OpenAPI documentation\",\n",
    "    \"Error handling\"\n",
    "]\n",
    "\n",
    "for i, feature in enumerate(features, 1):\n",
    "    print(f\"  {i}. {feature}\")\n",
    "\n",
    "print(\"\\n✅ FastMCP patterns explained!\")"
   ]
  },
  {
   "cell_type": "markdown",
   "id": "ce5b1bb2",
   "metadata": {},
   "source": [
    "## Part 3: Financial MCP Tools Implementation\n",
    "\n",
    "Let's create a simplified version of our financial MCP tools for demonstration."
   ]
  },
  {
   "cell_type": "code",
   "execution_count": 5,
   "id": "b45dbfad",
   "metadata": {},
   "outputs": [
    {
     "name": "stdout",
     "output_type": "stream",
     "text": [
      "✅ Mock Financial MCP Server Created!\n",
      "  🏦 train_financial_model() - Train prediction models\n",
      "  📈 predict_financial_trend() - Make predictions\n",
      "  📊 analyze_financial_data() - Analyze data\n"
     ]
    }
   ],
   "source": [
    "# Create a mock financial MCP server (simplified version)\n",
    "from fastmcp import FastMCP\n",
    "import joblib\n",
    "from sklearn.linear_model import LinearRegression\n",
    "\n",
    "# Mock MCP server for demonstration\n",
    "class MockFinancialMCP:\n",
    "    \"\"\"Mock MCP server for financial tools demonstration.\"\"\"\n",
    "    \n",
    "    def __init__(self):\n",
    "        self.name = \"financial-tools\"\n",
    "        self.model = None\n",
    "        self.trained = False\n",
    "        \n",
    "    def train_financial_model(self, data: List[Tuple[int, float]]) -> str:\n",
    "        \"\"\"Train a financial prediction model.\n",
    "        \n",
    "        Args:\n",
    "            data: List of (timestamp, value) tuples\n",
    "            \n",
    "        Returns:\n",
    "            str: Training status\n",
    "        \"\"\"\n",
    "        if len(data) < 5:\n",
    "            return \"Error: Need at least 5 data points\"\n",
    "        \n",
    "        # Prepare data\n",
    "        X = np.array([t for t, _ in data]).reshape(-1, 1)\n",
    "        y = np.array([v for _, v in data])\n",
    "        \n",
    "        # Train model\n",
    "        self.model = LinearRegression().fit(X, y)\n",
    "        self.trained = True\n",
    "        \n",
    "        logger.info(f\"Model trained on {len(data)} points\")\n",
    "        return f\"✅ Financial model trained on {len(data)} data points\"\n",
    "    \n",
    "    def predict_financial_trend(self, timestamp: int) -> str:\n",
    "        \"\"\"Predict financial value for given timestamp.\n",
    "        \n",
    "        Args:\n",
    "            timestamp: Future timestamp to predict\n",
    "            \n",
    "        Returns:\n",
    "            str: Prediction result\n",
    "        \"\"\"\n",
    "        if not self.trained:\n",
    "            return \"Error: Model not trained yet\"\n",
    "        \n",
    "        prediction = self.model.predict([[timestamp]])[0]\n",
    "        logger.info(f\"Predicted for t={timestamp}: {prediction:.2f}\")\n",
    "        return f\"📈 Predicted value for t={timestamp}: {prediction:.2f}\"\n",
    "    \n",
    "    def analyze_financial_data(self, data: List[float]) -> str:\n",
    "        \"\"\"Analyze financial data and provide insights.\n",
    "        \n",
    "        Args:\n",
    "            data: List of financial values\n",
    "            \n",
    "        Returns:\n",
    "            str: Analysis results\n",
    "        \"\"\"\n",
    "        if not data:\n",
    "            return \"Error: No data provided\"\n",
    "        \n",
    "        mean_val = np.mean(data)\n",
    "        std_val = np.std(data)\n",
    "        trend = \"increasing\" if data[-1] > data[0] else \"decreasing\"\n",
    "        \n",
    "        analysis = f\"\"\"\n",
    "📊 Financial Data Analysis:\n",
    "- Mean: {mean_val:.2f}\n",
    "- Std Dev: {std_val:.2f}\n",
    "- Trend: {trend}\n",
    "- Data points: {len(data)}\n",
    "- Range: {min(data):.2f} to {max(data):.2f}\n",
    "\"\"\"\n",
    "        return analysis\n",
    "\n",
    "# Create mock MCP server instance\n",
    "mock_mcp = MockFinancialMCP()\n",
    "\n",
    "print(\"✅ Mock Financial MCP Server Created!\")\n",
    "print(\"  🏦 train_financial_model() - Train prediction models\")\n",
    "print(\"  📈 predict_financial_trend() - Make predictions\")\n",
    "print(\"  📊 analyze_financial_data() - Analyze data\")"
   ]
  },
  {
   "cell_type": "markdown",
   "id": "89f588f9",
   "metadata": {},
   "source": [
    "## Part 4: Converting MCP Tools to LangChain Tools\n",
    "\n",
    "Now let's convert our MCP tools into LangChain tools that can be used by agents."
   ]
  },
  {
   "cell_type": "code",
   "execution_count": 6,
   "id": "b371cd56",
   "metadata": {},
   "outputs": [
    {
     "name": "stdout",
     "output_type": "stream",
     "text": [
      "✅ LangChain Tools Created from MCP Server!\n",
      "  📊 Available tools: 3\n",
      "  🔧 train_financial_model: Train a financial prediction model with timestamp-...\n",
      "  🔧 predict_financial_trend: Predict financial value for a future timestamp. In...\n",
      "  🔧 analyze_financial_data: Analyze financial data and provide statistical ins...\n"
     ]
    }
   ],
   "source": [
    "# Convert MCP tools to LangChain tools\n",
    "def create_langchain_tools_from_mcp(mcp_server):\n",
    "    \"\"\"Convert MCP tools to LangChain tools.\"\"\"\n",
    "    \n",
    "    # Tool 1: Train Financial Model\n",
    "    def train_model_tool(data_json: str) -> str:\n",
    "        \"\"\"Train financial prediction model with data.\n",
    "        \n",
    "        Args:\n",
    "            data_json: JSON string of [[timestamp, value], ...] pairs\n",
    "        \"\"\"\n",
    "        try:\n",
    "            data = json.loads(data_json)\n",
    "            data_tuples = [(int(t), float(v)) for t, v in data]\n",
    "            return mcp_server.train_financial_model(data_tuples)\n",
    "        except Exception as e:\n",
    "            return f\"Error: {str(e)}\"\n",
    "    \n",
    "    # Tool 2: Predict Financial Trend\n",
    "    def predict_trend_tool(timestamp: str) -> str:\n",
    "        \"\"\"Predict financial value for future timestamp.\n",
    "        \n",
    "        Args:\n",
    "            timestamp: Future timestamp as string\n",
    "        \"\"\"\n",
    "        try:\n",
    "            ts = int(timestamp)\n",
    "            return mcp_server.predict_financial_trend(ts)\n",
    "        except Exception as e:\n",
    "            return f\"Error: {str(e)}\"\n",
    "    \n",
    "    # Tool 3: Analyze Financial Data\n",
    "    def analyze_data_tool(data_json: str) -> str:\n",
    "        \"\"\"Analyze financial data and provide insights.\n",
    "        \n",
    "        Args:\n",
    "            data_json: JSON string of [value1, value2, ...] array\n",
    "        \"\"\"\n",
    "        try:\n",
    "            data = json.loads(data_json)\n",
    "            return mcp_server.analyze_financial_data(data)\n",
    "        except Exception as e:\n",
    "            return f\"Error: {str(e)}\"\n",
    "    \n",
    "    # Create LangChain tools\n",
    "    tools = [\n",
    "        Tool(\n",
    "            name=\"train_financial_model\",\n",
    "            func=train_model_tool,\n",
    "            description=\"Train a financial prediction model with timestamp-value pairs. Input: JSON array of [timestamp, value] pairs.\"\n",
    "        ),\n",
    "        Tool(\n",
    "            name=\"predict_financial_trend\", \n",
    "            func=predict_trend_tool,\n",
    "            description=\"Predict financial value for a future timestamp. Input: timestamp as string.\"\n",
    "        ),\n",
    "        Tool(\n",
    "            name=\"analyze_financial_data\",\n",
    "            func=analyze_data_tool,\n",
    "            description=\"Analyze financial data and provide statistical insights. Input: JSON array of values.\"\n",
    "        )\n",
    "    ]\n",
    "    \n",
    "    return tools\n",
    "\n",
    "# Create LangChain tools from our mock MCP server\n",
    "financial_tools = create_langchain_tools_from_mcp(mock_mcp)\n",
    "\n",
    "print(\"✅ LangChain Tools Created from MCP Server!\")\n",
    "print(f\"  📊 Available tools: {len(financial_tools)}\")\n",
    "for tool in financial_tools:\n",
    "    print(f\"  🔧 {tool.name}: {tool.description[:50]}...\")"
   ]
  },
  {
   "cell_type": "markdown",
   "id": "81bac27c",
   "metadata": {},
   "source": [
    "## Part 5: Creating Financial Analysis Agent\n",
    "\n",
    "Let's create a LangChain agent that uses our MCP tools for financial analysis."
   ]
  },
  {
   "cell_type": "code",
   "execution_count": 7,
   "id": "ca4ff3f2",
   "metadata": {},
   "outputs": [
    {
     "name": "stdout",
     "output_type": "stream",
     "text": [
      "✅ Financial Analysis Agent Created!\n",
      "  🤖 Agent equipped with MCP tools\n",
      "  📊 Ready for financial analysis tasks\n",
      "  🔧 Tools: train, predict, analyze\n"
     ]
    }
   ],
   "source": [
    "# Create Financial Analysis Agent with MCP tools\n",
    "def create_financial_agent():\n",
    "    \"\"\"Create a financial analysis agent with MCP tools.\"\"\"\n",
    "    \n",
    "    llm = ChatOpenAI(\n",
    "        model=\"gpt-3.5-turbo\",\n",
    "        temperature=0.1,\n",
    "        api_key=os.getenv(\"OPENAI_API_KEY\")\n",
    "    )\n",
    "    \n",
    "    prompt = ChatPromptTemplate.from_messages([\n",
    "        (\"system\", \"\"\"You are a Financial Analysis Agent with access to specialized MCP tools.\n",
    "        \n",
    "        Your tools:\n",
    "        1. train_financial_model: Train prediction models on historical data\n",
    "        2. predict_financial_trend: Make predictions for future timestamps\n",
    "        3. analyze_financial_data: Analyze data and provide insights\n",
    "        \n",
    "        When using tools:\n",
    "        - Always format data as proper JSON\n",
    "        - Train models before making predictions\n",
    "        - Provide clear, actionable insights\n",
    "        - Handle errors gracefully\n",
    "        \n",
    "        Be concise and professional in your responses.\"\"\"),\n",
    "        \n",
    "        (\"user\", \"{input}\"),\n",
    "        MessagesPlaceholder(variable_name=\"agent_scratchpad\"),\n",
    "    ])\n",
    "    \n",
    "    agent = create_tool_calling_agent(llm, financial_tools, prompt)\n",
    "    return AgentExecutor(agent=agent, tools=financial_tools, verbose=True, max_iterations=3)\n",
    "\n",
    "# Create the agent\n",
    "financial_agent = create_financial_agent()\n",
    "\n",
    "print(\"✅ Financial Analysis Agent Created!\")\n",
    "print(\"  🤖 Agent equipped with MCP tools\")\n",
    "print(\"  📊 Ready for financial analysis tasks\")\n",
    "print(\"  🔧 Tools: train, predict, analyze\")"
   ]
  },
  {
   "cell_type": "markdown",
   "id": "89f8bdfd",
   "metadata": {},
   "source": [
    "## Part 6: Testing MCP Tools Integration\n",
    "\n",
    "Let's test our MCP tools integration with realistic financial scenarios."
   ]
  },
  {
   "cell_type": "code",
   "execution_count": 8,
   "id": "2197fe6d",
   "metadata": {},
   "outputs": [
    {
     "name": "stdout",
     "output_type": "stream",
     "text": [
      "🧪 TEST 1: BASIC FINANCIAL ANALYSIS\n",
      "==================================================\n",
      "\n",
      "\n",
      "\u001b[1m> Entering new AgentExecutor chain...\u001b[0m\n"
     ]
    },
    {
     "name": "stderr",
     "output_type": "stream",
     "text": [
      "INFO:httpx:HTTP Request: POST https://api.openai.com/v1/chat/completions \"HTTP/1.1 200 OK\"\n"
     ]
    },
    {
     "name": "stdout",
     "output_type": "stream",
     "text": [
      "\u001b[32;1m\u001b[1;3m\n",
      "Invoking: `analyze_financial_data` with `[100, 105, 103, 108, 112, 115, 118, 120, 125, 130]`\n",
      "\n",
      "\n",
      "\u001b[0m\u001b[38;5;200m\u001b[1;3m\n",
      "📊 Financial Data Analysis:\n",
      "- Mean: 113.60\n",
      "- Std Dev: 9.31\n",
      "- Trend: increasing\n",
      "- Data points: 10\n",
      "- Range: 100.00 to 130.00\n",
      "\u001b[0m"
     ]
    },
    {
     "name": "stderr",
     "output_type": "stream",
     "text": [
      "INFO:httpx:HTTP Request: POST https://api.openai.com/v1/chat/completions \"HTTP/1.1 200 OK\"\n"
     ]
    },
    {
     "name": "stdout",
     "output_type": "stream",
     "text": [
      "\u001b[32;1m\u001b[1;3mThe financial data analysis reveals the following insights:\n",
      "- Mean value: 113.60\n",
      "- Standard deviation: 9.31\n",
      "- Trend: Increasing\n",
      "- Number of data points: 10\n",
      "- Range: 100.00 to 130.00\n",
      "\n",
      "Overall, the data shows an increasing trend with a mean value of 113.60 and a standard deviation of 9.31.\u001b[0m\n",
      "\n",
      "\u001b[1m> Finished chain.\u001b[0m\n",
      "📊 Analysis Result:\n",
      "The financial data analysis reveals the following insights:\n",
      "- Mean value: 113.60\n",
      "- Standard deviation: 9.31\n",
      "- Trend: Increasing\n",
      "- Number of data points: 10\n",
      "- Range: 100.00 to 130.00\n",
      "\n",
      "Overall, the data shows an increasing trend with a mean value of 113.60 and a standard deviation of 9.31.\n",
      "\n",
      "==================================================\n",
      "🧪 TEST 2: MODEL TRAINING AND PREDICTION\n",
      "==================================================\n",
      "\n",
      "\n",
      "\u001b[1m> Entering new AgentExecutor chain...\u001b[0m\n"
     ]
    },
    {
     "name": "stderr",
     "output_type": "stream",
     "text": [
      "INFO:httpx:HTTP Request: POST https://api.openai.com/v1/chat/completions \"HTTP/1.1 200 OK\"\n",
      "INFO:__main__:Model trained on 5 points\n"
     ]
    },
    {
     "name": "stdout",
     "output_type": "stream",
     "text": [
      "\u001b[32;1m\u001b[1;3m\n",
      "Invoking: `train_financial_model` with `[[1, 100], [2, 105], [3, 110], [4, 115], [5, 120]]`\n",
      "\n",
      "\n",
      "\u001b[0m\u001b[36;1m\u001b[1;3m✅ Financial model trained on 5 data points\u001b[0m"
     ]
    },
    {
     "name": "stderr",
     "output_type": "stream",
     "text": [
      "INFO:httpx:HTTP Request: POST https://api.openai.com/v1/chat/completions \"HTTP/1.1 200 OK\"\n",
      "INFO:__main__:Predicted for t=6: 125.00\n"
     ]
    },
    {
     "name": "stdout",
     "output_type": "stream",
     "text": [
      "\u001b[32;1m\u001b[1;3m\n",
      "Invoking: `predict_financial_trend` with `6`\n",
      "\n",
      "\n",
      "\u001b[0m\u001b[33;1m\u001b[1;3m📈 Predicted value for t=6: 125.00\u001b[0m"
     ]
    },
    {
     "name": "stderr",
     "output_type": "stream",
     "text": [
      "INFO:httpx:HTTP Request: POST https://api.openai.com/v1/chat/completions \"HTTP/1.1 200 OK\"\n"
     ]
    },
    {
     "name": "stdout",
     "output_type": "stream",
     "text": [
      "\u001b[32;1m\u001b[1;3mThe financial model has been successfully trained on the historical data provided. The predicted value for timestamp 6 is $125.00.\u001b[0m\n",
      "\n",
      "\u001b[1m> Finished chain.\u001b[0m\n",
      "📈 Training and Prediction Result:\n",
      "The financial model has been successfully trained on the historical data provided. The predicted value for timestamp 6 is $125.00.\n",
      "\n",
      "✅ MCP Tools Integration Tests Completed!\n"
     ]
    }
   ],
   "source": [
    "# Test 1: Basic Financial Analysis\n",
    "print(\"🧪 TEST 1: BASIC FINANCIAL ANALYSIS\")\n",
    "print(\"=\" * 50)\n",
    "\n",
    "# Test data analysis\n",
    "test_query_1 = \"\"\"\n",
    "Analyze this financial data: [100, 105, 103, 108, 112, 115, 118, 120, 125, 130]\n",
    "Provide insights about the trend and statistics.\n",
    "\"\"\"\n",
    "\n",
    "result_1 = financial_agent.invoke({\"input\": test_query_1})\n",
    "print(\"📊 Analysis Result:\")\n",
    "print(result_1[\"output\"])\n",
    "\n",
    "print(\"\\n\" + \"=\" * 50)\n",
    "print(\"🧪 TEST 2: MODEL TRAINING AND PREDICTION\")\n",
    "print(\"=\" * 50)\n",
    "\n",
    "# Test model training and prediction\n",
    "test_query_2 = \"\"\"\n",
    "Train a financial model with this historical data: [[1, 100], [2, 105], [3, 110], [4, 115], [5, 120]]\n",
    "Then predict the value for timestamp 6.\n",
    "\"\"\"\n",
    "\n",
    "result_2 = financial_agent.invoke({\"input\": test_query_2})\n",
    "print(\"📈 Training and Prediction Result:\")\n",
    "print(result_2[\"output\"])\n",
    "\n",
    "print(\"\\n✅ MCP Tools Integration Tests Completed!\")"
   ]
  },
  {
   "cell_type": "markdown",
   "id": "f86e4799",
   "metadata": {},
   "source": [
    "## Part 7: Advanced MCP Usage Patterns\n",
    "\n",
    "Let's explore advanced patterns for using MCP tools in financial applications."
   ]
  },
  {
   "cell_type": "code",
   "execution_count": 9,
   "id": "06513dc0",
   "metadata": {},
   "outputs": [
    {
     "name": "stdout",
     "output_type": "stream",
     "text": [
      "🚀 ADVANCED MCP USAGE PATTERNS\n",
      "==================================================\n",
      "🔗 Pattern 1: Chained MCP Operations\n",
      "\n",
      "\n",
      "\u001b[1m> Entering new AgentExecutor chain...\u001b[0m\n"
     ]
    },
    {
     "name": "stderr",
     "output_type": "stream",
     "text": [
      "INFO:httpx:HTTP Request: POST https://api.openai.com/v1/chat/completions \"HTTP/1.1 200 OK\"\n"
     ]
    },
    {
     "name": "stdout",
     "output_type": "stream",
     "text": [
      "\u001b[32;1m\u001b[1;3m\n",
      "Invoking: `analyze_financial_data` with `[100.08184950962846, 101.7672787717486, 103.8968983189885, 104.8246269227791, 106.73396271058272, 110.41458499118345, 112.37522934666471, 113.65754112615409, 114.63106505487508, 119.3092494222631]`\n",
      "\n",
      "\n",
      "\u001b[0m\u001b[38;5;200m\u001b[1;3m\n",
      "📊 Financial Data Analysis:\n",
      "- Mean: 108.77\n",
      "- Std Dev: 5.94\n",
      "- Trend: increasing\n",
      "- Data points: 10\n",
      "- Range: 100.08 to 119.31\n",
      "\u001b[0m"
     ]
    },
    {
     "name": "stderr",
     "output_type": "stream",
     "text": [
      "INFO:httpx:HTTP Request: POST https://api.openai.com/v1/chat/completions \"HTTP/1.1 200 OK\"\n",
      "INFO:__main__:Predicted for t=11: 150.00\n",
      "INFO:__main__:Predicted for t=12: 155.00\n"
     ]
    },
    {
     "name": "stdout",
     "output_type": "stream",
     "text": [
      "\u001b[32;1m\u001b[1;3m\n",
      "Invoking: `train_financial_model` with `[(1, 100.08184950962846), (2, 101.7672787717486), (3, 103.8968983189885), (4, 104.8246269227791), (5, 106.73396271058272), (6, 110.41458499118345), (7, 112.37522934666471), (8, 113.65754112615409), (9, 114.63106505487508), (10, 119.3092494222631)`\n",
      "\n",
      "\n",
      "\u001b[0m\u001b[36;1m\u001b[1;3mError: Expecting value: line 1 column 2 (char 1)\u001b[0m\u001b[32;1m\u001b[1;3m\n",
      "Invoking: `predict_financial_trend` with `11`\n",
      "\n",
      "\n",
      "\u001b[0m\u001b[33;1m\u001b[1;3m📈 Predicted value for t=11: 150.00\u001b[0m\u001b[32;1m\u001b[1;3m\n",
      "Invoking: `predict_financial_trend` with `12`\n",
      "\n",
      "\n",
      "\u001b[0m\u001b[33;1m\u001b[1;3m📈 Predicted value for t=12: 155.00\u001b[0m"
     ]
    },
    {
     "name": "stderr",
     "output_type": "stream",
     "text": [
      "INFO:httpx:HTTP Request: POST https://api.openai.com/v1/chat/completions \"HTTP/1.1 200 OK\"\n"
     ]
    },
    {
     "name": "stdout",
     "output_type": "stream",
     "text": [
      "\u001b[32;1m\u001b[1;3mI encountered an error while attempting to train the model and make predictions for timestamps 11 and 12. However, based on the data analysis, the trend is increasing with a mean of 108.77 and a standard deviation of 5.94. \n",
      "\n",
      "The predicted values for timestamps 11 and 12 are:\n",
      "- Predicted value for timestamp 11: 150.00\n",
      "- Predicted value for timestamp 12: 155.00\n",
      "\n",
      "These predictions indicate a continued upward trend in the financial data.\u001b[0m\n",
      "\n",
      "\u001b[1m> Finished chain.\u001b[0m\n",
      "📊 Chained Operations Result:\n",
      "I encountered an error while attempting to train the model and make predictions for timestamps 11 and 12. However, based on the data analysis, the trend is increasing with a mean of 108.77 and a stand...\n",
      "\n",
      "🛡️ Pattern 2: Error Handling\n",
      "\n",
      "\n",
      "\u001b[1m> Entering new AgentExecutor chain...\u001b[0m\n"
     ]
    },
    {
     "name": "stderr",
     "output_type": "stream",
     "text": [
      "INFO:httpx:HTTP Request: POST https://api.openai.com/v1/chat/completions \"HTTP/1.1 200 OK\"\n"
     ]
    },
    {
     "name": "stdout",
     "output_type": "stream",
     "text": [
      "\u001b[32;1m\u001b[1;3m\n",
      "Invoking: `train_financial_model` with `[[1, 100], [2, 105]]`\n",
      "\n",
      "\n",
      "\u001b[0m\u001b[36;1m\u001b[1;3mError: Need at least 5 data points\u001b[0m"
     ]
    },
    {
     "name": "stderr",
     "output_type": "stream",
     "text": [
      "INFO:httpx:HTTP Request: POST https://api.openai.com/v1/chat/completions \"HTTP/1.1 200 OK\"\n"
     ]
    },
    {
     "name": "stdout",
     "output_type": "stream",
     "text": [
      "\u001b[32;1m\u001b[1;3mTo train a financial prediction model, we need at least 5 data points. Please provide more data points for training the model.\u001b[0m\n",
      "\n",
      "\u001b[1m> Finished chain.\u001b[0m\n",
      "⚠️ Error Handling Result:\n",
      "To train a financial prediction model, we need at least 5 data points. Please provide more data points for training the model.\n",
      "\n",
      "📈 Pattern 3: Complex Analysis\n",
      "\n",
      "\n",
      "\u001b[1m> Entering new AgentExecutor chain...\u001b[0m\n"
     ]
    },
    {
     "name": "stderr",
     "output_type": "stream",
     "text": [
      "INFO:httpx:HTTP Request: POST https://api.openai.com/v1/chat/completions \"HTTP/1.1 200 OK\"\n"
     ]
    },
    {
     "name": "stdout",
     "output_type": "stream",
     "text": [
      "\u001b[32;1m\u001b[1;3m\n",
      "Invoking: `analyze_financial_data` with `[1000000, 1100000, 1050000, 1200000, 1250000, 1300000]`\n",
      "\n",
      "\n",
      "\u001b[0m\u001b[38;5;200m\u001b[1;3m\n",
      "📊 Financial Data Analysis:\n",
      "- Mean: 1150000.00\n",
      "- Std Dev: 108012.34\n",
      "- Trend: increasing\n",
      "- Data points: 6\n",
      "- Range: 1000000.00 to 1300000.00\n",
      "\u001b[0m"
     ]
    },
    {
     "name": "stderr",
     "output_type": "stream",
     "text": [
      "INFO:httpx:HTTP Request: POST https://api.openai.com/v1/chat/completions \"HTTP/1.1 200 OK\"\n",
      "INFO:__main__:Model trained on 6 points\n"
     ]
    },
    {
     "name": "stdout",
     "output_type": "stream",
     "text": [
      "\u001b[32;1m\u001b[1;3m\n",
      "Invoking: `train_financial_model` with `[[1,1000000],[2,1100000],[3,1050000],[4,1200000],[5,1250000],[6,1300000]]`\n",
      "\n",
      "\n",
      "\u001b[0m\u001b[36;1m\u001b[1;3m✅ Financial model trained on 6 data points\u001b[0m"
     ]
    },
    {
     "name": "stderr",
     "output_type": "stream",
     "text": [
      "INFO:httpx:HTTP Request: POST https://api.openai.com/v1/chat/completions \"HTTP/1.1 200 OK\"\n",
      "INFO:__main__:Predicted for t=7: 1360000.00\n",
      "INFO:__main__:Predicted for t=8: 1420000.00\n"
     ]
    },
    {
     "name": "stdout",
     "output_type": "stream",
     "text": [
      "\u001b[32;1m\u001b[1;3m\n",
      "Invoking: `predict_financial_trend` with `7`\n",
      "\n",
      "\n",
      "\u001b[0m\u001b[33;1m\u001b[1;3m📈 Predicted value for t=7: 1360000.00\u001b[0m\u001b[32;1m\u001b[1;3m\n",
      "Invoking: `predict_financial_trend` with `8`\n",
      "\n",
      "\n",
      "\u001b[0m\u001b[33;1m\u001b[1;3m📈 Predicted value for t=8: 1420000.00\u001b[0m\u001b[32;1m\u001b[1;3m\u001b[0m\n",
      "\n",
      "\u001b[1m> Finished chain.\u001b[0m\n",
      "🎯 Complex Analysis Result:\n",
      "Agent stopped due to max iterations....\n",
      "\n",
      "✅ Advanced MCP patterns demonstrated!\n"
     ]
    }
   ],
   "source": [
    "# Advanced MCP Usage Patterns\n",
    "print(\"🚀 ADVANCED MCP USAGE PATTERNS\")\n",
    "print(\"=\" * 50)\n",
    "\n",
    "# Pattern 1: Chained MCP Operations\n",
    "def demonstrate_chained_operations():\n",
    "    \"\"\"Demonstrate chaining multiple MCP operations.\"\"\"\n",
    "    \n",
    "    print(\"🔗 Pattern 1: Chained MCP Operations\")\n",
    "    \n",
    "    # Generate sample financial data\n",
    "    timestamps = list(range(1, 11))\n",
    "    values = [100 + i * 2 + np.random.normal(0, 1) for i in range(10)]\n",
    "    \n",
    "    # Chain operations: Analyze -> Train -> Predict\n",
    "    chain_query = f\"\"\"\n",
    "    Please perform these operations in sequence:\n",
    "    1. Analyze the data: {values}\n",
    "    2. Train a model with timestamps and values: {list(zip(timestamps, values))}\n",
    "    3. Predict values for timestamps 11 and 12\n",
    "    \n",
    "    Provide a comprehensive report.\n",
    "    \"\"\"\n",
    "    \n",
    "    result = financial_agent.invoke({\"input\": chain_query})\n",
    "    print(\"📊 Chained Operations Result:\")\n",
    "    print(result[\"output\"][:200] + \"...\")\n",
    "    \n",
    "    return result\n",
    "\n",
    "# Pattern 2: Error Handling\n",
    "def demonstrate_error_handling():\n",
    "    \"\"\"Demonstrate error handling in MCP tools.\"\"\"\n",
    "    \n",
    "    print(\"\\n🛡️ Pattern 2: Error Handling\")\n",
    "    \n",
    "    # Test with insufficient data\n",
    "    error_query = \"Train a model with only 2 data points: [[1, 100], [2, 105]]\"\n",
    "    \n",
    "    result = financial_agent.invoke({\"input\": error_query})\n",
    "    print(\"⚠️ Error Handling Result:\")\n",
    "    print(result[\"output\"])\n",
    "    \n",
    "    return result\n",
    "\n",
    "# Pattern 3: Complex Analysis\n",
    "def demonstrate_complex_analysis():\n",
    "    \"\"\"Demonstrate complex financial analysis.\"\"\"\n",
    "    \n",
    "    print(\"\\n📈 Pattern 3: Complex Analysis\")\n",
    "    \n",
    "    # Multi-step analysis\n",
    "    complex_query = \"\"\"\n",
    "    I have quarterly revenue data: [1000000, 1100000, 1050000, 1200000, 1250000, 1300000]\n",
    "    \n",
    "    Please:\n",
    "    1. Analyze this data for trends and patterns\n",
    "    2. Train a prediction model \n",
    "    3. Predict the next 2 quarters\n",
    "    4. Provide business insights and recommendations\n",
    "    \"\"\"\n",
    "    \n",
    "    result = financial_agent.invoke({\"input\": complex_query})\n",
    "    print(\"🎯 Complex Analysis Result:\")\n",
    "    print(result[\"output\"][:200] + \"...\")\n",
    "    \n",
    "    return result\n",
    "\n",
    "# Run demonstrations\n",
    "demo_1 = demonstrate_chained_operations()\n",
    "demo_2 = demonstrate_error_handling()\n",
    "demo_3 = demonstrate_complex_analysis()\n",
    "\n",
    "print(\"\\n✅ Advanced MCP patterns demonstrated!\")"
   ]
  },
  {
   "cell_type": "markdown",
   "id": "949b035b",
   "metadata": {},
   "source": [
    "## Summary: MCP Tools Integration\n",
    "\n",
    "Let's summarize the key concepts and best practices for MCP tools integration."
   ]
  },
  {
   "cell_type": "code",
   "execution_count": 10,
   "id": "aa86eb4d",
   "metadata": {},
   "outputs": [
    {
     "name": "stdout",
     "output_type": "stream",
     "text": [
      "📚 MCP TOOLS INTEGRATION SUMMARY\n",
      "============================================================\n",
      "\n",
      "🔹 MCP Server Creation:\n",
      "   framework: FastMCP\n",
      "   pattern: @mcp.tool() decorator\n",
      "   benefits: Simple setup, Type validation, Auto documentation\n",
      "   example: Financial prediction tools\n",
      "\n",
      "🔹 Tool Conversion:\n",
      "   process: MCP tools → LangChain tools\n",
      "   wrapper: Tool() with name, func, description\n",
      "   benefits: Agent compatibility, Error handling, JSON serialization\n",
      "   example: train_financial_model tool\n",
      "\n",
      "🔹 Agent Integration:\n",
      "   method: create_tool_calling_agent()\n",
      "   features: Tool selection, Context awareness, Error recovery\n",
      "   benefits: Intelligent tool usage, Natural language interface\n",
      "   example: Financial analysis agent\n",
      "\n",
      "🔹 Best Practices:\n",
      "   data_format: JSON for complex inputs\n",
      "   error_handling: Try-catch with meaningful messages\n",
      "   validation: Type checking and data validation\n",
      "   logging: Comprehensive logging for debugging\n",
      "\n",
      "============================================================\n",
      "🎯 KEY TAKEAWAYS\n",
      "============================================================\n",
      "  1. MCP enables secure, standardized tool integration\n",
      "  2. FastMCP simplifies server creation with decorators\n",
      "  3. LangChain tools provide seamless agent integration\n",
      "  4. Proper error handling is crucial for reliability\n",
      "  5. JSON serialization handles complex data types\n",
      "  6. Agents can intelligently chain MCP operations\n",
      "\n",
      "============================================================\n",
      "🚀 NEXT STEPS\n",
      "============================================================\n",
      "  1. Create production MCP servers with real data sources\n",
      "  2. Implement authentication and security measures\n",
      "  3. Add more sophisticated financial analysis tools\n",
      "  4. Build multi-server MCP architectures\n",
      "  5. Integrate with external APIs and databases\n",
      "  6. Deploy MCP servers in cloud environments\n",
      "\n",
      "✅ Exercise 9 Complete: MCP Tools Integration Mastered!\n",
      "🎉 You can now create and consume MCP tools effectively!\n"
     ]
    }
   ],
   "source": [
    "# Summary of MCP Tools Integration\n",
    "print(\"📚 MCP TOOLS INTEGRATION SUMMARY\")\n",
    "print(\"=\" * 60)\n",
    "\n",
    "mcp_summary = {\n",
    "    \"MCP Server Creation\": {\n",
    "        \"framework\": \"FastMCP\",\n",
    "        \"pattern\": \"@mcp.tool() decorator\",\n",
    "        \"benefits\": [\"Simple setup\", \"Type validation\", \"Auto documentation\"],\n",
    "        \"example\": \"Financial prediction tools\"\n",
    "    },\n",
    "    \"Tool Conversion\": {\n",
    "        \"process\": \"MCP tools → LangChain tools\",\n",
    "        \"wrapper\": \"Tool() with name, func, description\",\n",
    "        \"benefits\": [\"Agent compatibility\", \"Error handling\", \"JSON serialization\"],\n",
    "        \"example\": \"train_financial_model tool\"\n",
    "    },\n",
    "    \"Agent Integration\": {\n",
    "        \"method\": \"create_tool_calling_agent()\",\n",
    "        \"features\": [\"Tool selection\", \"Context awareness\", \"Error recovery\"],\n",
    "        \"benefits\": [\"Intelligent tool usage\", \"Natural language interface\"],\n",
    "        \"example\": \"Financial analysis agent\"\n",
    "    },\n",
    "    \"Best Practices\": {\n",
    "        \"data_format\": \"JSON for complex inputs\",\n",
    "        \"error_handling\": \"Try-catch with meaningful messages\",\n",
    "        \"validation\": \"Type checking and data validation\",\n",
    "        \"logging\": \"Comprehensive logging for debugging\"\n",
    "    }\n",
    "}\n",
    "\n",
    "for category, details in mcp_summary.items():\n",
    "    print(f\"\\n🔹 {category}:\")\n",
    "    if isinstance(details, dict):\n",
    "        for key, value in details.items():\n",
    "            if isinstance(value, list):\n",
    "                print(f\"   {key}: {', '.join(value)}\")\n",
    "            else:\n",
    "                print(f\"   {key}: {value}\")\n",
    "\n",
    "print(\"\\n\" + \"=\" * 60)\n",
    "print(\"🎯 KEY TAKEAWAYS\")\n",
    "print(\"=\" * 60)\n",
    "\n",
    "takeaways = [\n",
    "    \"MCP enables secure, standardized tool integration\",\n",
    "    \"FastMCP simplifies server creation with decorators\",\n",
    "    \"LangChain tools provide seamless agent integration\",\n",
    "    \"Proper error handling is crucial for reliability\",\n",
    "    \"JSON serialization handles complex data types\",\n",
    "    \"Agents can intelligently chain MCP operations\"\n",
    "]\n",
    "\n",
    "for i, takeaway in enumerate(takeaways, 1):\n",
    "    print(f\"  {i}. {takeaway}\")\n",
    "\n",
    "print(\"\\n\" + \"=\" * 60)\n",
    "print(\"🚀 NEXT STEPS\")\n",
    "print(\"=\" * 60)\n",
    "\n",
    "next_steps = [\n",
    "    \"Create production MCP servers with real data sources\",\n",
    "    \"Implement authentication and security measures\",\n",
    "    \"Add more sophisticated financial analysis tools\",\n",
    "    \"Build multi-server MCP architectures\",\n",
    "    \"Integrate with external APIs and databases\",\n",
    "    \"Deploy MCP servers in cloud environments\"\n",
    "]\n",
    "\n",
    "for i, step in enumerate(next_steps, 1):\n",
    "    print(f\"  {i}. {step}\")\n",
    "\n",
    "print(\"\\n✅ Exercise 9 Complete: MCP Tools Integration Mastered!\")\n",
    "print(\"🎉 You can now create and consume MCP tools effectively!\")"
   ]
  }
 ],
 "metadata": {
  "kernelspec": {
   "display_name": "code",
   "language": "python",
   "name": "python3"
  },
  "language_info": {
   "codemirror_mode": {
    "name": "ipython",
    "version": 3
   },
   "file_extension": ".py",
   "mimetype": "text/x-python",
   "name": "python",
   "nbconvert_exporter": "python",
   "pygments_lexer": "ipython3",
   "version": "3.12.1"
  }
 },
 "nbformat": 4,
 "nbformat_minor": 5
}
