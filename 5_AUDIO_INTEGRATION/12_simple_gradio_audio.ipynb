{
 "cells": [
  {
   "cell_type": "markdown",
   "id": "67235a24",
   "metadata": {},
   "source": [
    "# Exercise 12: Simple Gradio Audio with Whisper\n",
    "## Quick Demo of Audio Recording and Transcription\n",
    "\n",
    "A super simple example of using Gradio's audio components with OpenAI Whisper for speech-to-text.\n",
    "\n",
    "Let's build a simple audio transcriber! 🎤📝"
   ]
  },
  {
   "cell_type": "code",
   "execution_count": 1,
   "id": "0b10c695",
   "metadata": {},
   "outputs": [
    {
     "name": "stdout",
     "output_type": "stream",
     "text": [
      "\u001b[1m\u001b[33mwarning\u001b[39m\u001b[0m\u001b[1m:\u001b[0m \u001b[1mNo `requires-python` value found in the workspace. Defaulting to `>=3.12`.\u001b[0m\n",
      "\u001b[2mResolved \u001b[1m393 packages\u001b[0m \u001b[2min 15ms\u001b[0m\u001b[0m\n",
      "\u001b[2mAudited \u001b[1m224 packages\u001b[0m \u001b[2min 0.16ms\u001b[0m\u001b[0m\n"
     ]
    }
   ],
   "source": [
    "# Install required packages\n",
    "!uv add gradio openai python-dotenv"
   ]
  },
  {
   "cell_type": "code",
   "execution_count": 2,
   "id": "9ab46e3a",
   "metadata": {},
   "outputs": [
    {
     "name": "stdout",
     "output_type": "stream",
     "text": [
      "✓ Ready for audio transcription!\n"
     ]
    }
   ],
   "source": [
    "# Simple imports\n",
    "import gradio as gr\n",
    "import openai\n",
    "from dotenv import load_dotenv\n",
    "import os\n",
    "\n",
    "# Load environment\n",
    "load_dotenv()\n",
    "openai.api_key = os.getenv(\"OPENAI_API_KEY\")\n",
    "\n",
    "print(\"✓ Ready for audio transcription!\")"
   ]
  },
  {
   "cell_type": "code",
   "execution_count": 3,
   "id": "fd95d253",
   "metadata": {},
   "outputs": [
    {
     "name": "stdout",
     "output_type": "stream",
     "text": [
      "✅ Transcription function ready!\n"
     ]
    }
   ],
   "source": [
    "# Simple transcription function\n",
    "def transcribe_audio(audio_file):\n",
    "    \"\"\"Transcribe audio using Whisper.\"\"\"\n",
    "    if audio_file is None:\n",
    "        return \"No audio file provided\"\n",
    "    \n",
    "    try:\n",
    "        # Open and transcribe\n",
    "        with open(audio_file, \"rb\") as file:\n",
    "            transcript = openai.audio.transcriptions.create(\n",
    "                model=\"whisper-1\",\n",
    "                file=file\n",
    "            )\n",
    "        return transcript.text\n",
    "    except Exception as e:\n",
    "        return f\"Error: {str(e)}\"\n",
    "\n",
    "print(\"✅ Transcription function ready!\")"
   ]
  },
  {
   "cell_type": "code",
   "execution_count": 4,
   "id": "3f0df6ba",
   "metadata": {},
   "outputs": [
    {
     "name": "stdout",
     "output_type": "stream",
     "text": [
      "* Running on local URL:  http://127.0.0.1:7860\n",
      "* Running on public URL: https://f14b5d14e84689ed66.gradio.live\n",
      "\n",
      "This share link expires in 1 week. For free permanent hosting and GPU upgrades, run `gradio deploy` from the terminal in the working directory to deploy to Hugging Face Spaces (https://huggingface.co/spaces)\n"
     ]
    },
    {
     "data": {
      "text/html": [
       "<div><iframe src=\"https://f14b5d14e84689ed66.gradio.live\" width=\"100%\" height=\"500\" allow=\"autoplay; camera; microphone; clipboard-read; clipboard-write;\" frameborder=\"0\" allowfullscreen></iframe></div>"
      ],
      "text/plain": [
       "<IPython.core.display.HTML object>"
      ]
     },
     "metadata": {},
     "output_type": "display_data"
    },
    {
     "data": {
      "text/plain": []
     },
     "execution_count": 4,
     "metadata": {},
     "output_type": "execute_result"
    }
   ],
   "source": [
    "# Create simple Gradio interface\n",
    "demo = gr.Interface(\n",
    "    fn=transcribe_audio,\n",
    "    inputs=gr.Audio(type=\"filepath\"),\n",
    "    outputs=gr.Textbox(label=\"Transcription\"),\n",
    "    title=\"🎤 Simple Audio Transcriber\",\n",
    "    description=\"Record or upload audio to get text transcription\"\n",
    ")\n",
    "\n",
    "# Launch the demo\n",
    "demo.launch(share=True)"
   ]
  },
  {
   "cell_type": "markdown",
   "id": "8f164121",
   "metadata": {},
   "source": [
    "## That's it! 🎉\n",
    "\n",
    "Your simple audio transcriber is running. You can:\n",
    "- Record audio directly in the browser\n",
    "- Upload audio files\n",
    "- Get instant transcriptions\n",
    "\n",
    "Perfect for quick voice-to-text needs!"
   ]
  }
 ],
 "metadata": {
  "kernelspec": {
   "display_name": ".venv",
   "language": "python",
   "name": "python3"
  },
  "language_info": {
   "codemirror_mode": {
    "name": "ipython",
    "version": 3
   },
   "file_extension": ".py",
   "mimetype": "text/x-python",
   "name": "python",
   "nbconvert_exporter": "python",
   "pygments_lexer": "ipython3",
   "version": "3.12.1"
  }
 },
 "nbformat": 4,
 "nbformat_minor": 5
}
