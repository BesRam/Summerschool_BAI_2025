{
 "cells": [
  {
   "cell_type": "markdown",
   "id": "926def0b",
   "metadata": {},
   "source": [
    "# Exercise 1: Basic Finance Advisor Chatbot\n",
    "\n",
    "Welcome to the first exercise in our LangChain Fundamentals series! \n",
    "\n",
    "In this notebook, you'll learn how to:\n",
    "- Set up LangChain with ChatOpenAI\n",
    "- Create a simple finance advisor chatbot\n",
    "- Handle financial terminology and basic investment advice\n",
    "- Practice basic prompting techniques\n",
    "\n",
    "## Prerequisites\n",
    "- OpenAI API key (should be in your .env file)\n",
    "- Basic understanding of Python\n",
    "- Interest in finance and AI! 💰🤖"
   ]
  },
  {
   "cell_type": "markdown",
   "id": "1e38722d",
   "metadata": {},
   "source": [
    "## Step 1: Import Required Libraries\n",
    "\n",
    "First, let's import the LangChain components we'll need for our finance chatbot."
   ]
  },
  {
   "cell_type": "code",
   "execution_count": 1,
   "id": "541f262b",
   "metadata": {},
   "outputs": [
    {
     "name": "stdout",
     "output_type": "stream",
     "text": [
      "✅ OpenAI API key found!\n"
     ]
    }
   ],
   "source": [
    "# Install required packages (if needed)\n",
    "# !uv add langchain-openai langchain python-dotenv\n",
    "\n",
    "# Import necessary libraries\n",
    "import os\n",
    "from dotenv import load_dotenv\n",
    "from langchain_openai import ChatOpenAI\n",
    "from langchain_core.messages import HumanMessage, SystemMessage\n",
    "\n",
    "# Load environment variables\n",
    "load_dotenv()\n",
    "\n",
    "# Verify OpenAI API key is available\n",
    "if not os.getenv(\"OPENAI_API_KEY\"):\n",
    "    print(\"⚠️ Warning: OPENAI_API_KEY not found in environment variables!\")\n",
    "    print(\"Make sure you've run the setup.ipynb notebook first.\")\n",
    "else:\n",
    "    print(\"✅ OpenAI API key found!\")"
   ]
  },
  {
   "cell_type": "markdown",
   "id": "9e08c496",
   "metadata": {},
   "source": [
    "## Step 2: Set Up ChatOpenAI Model\n",
    "\n",
    "Now let's create our ChatOpenAI instance. This is the core component that will power our finance advisor."
   ]
  },
  {
   "cell_type": "code",
   "execution_count": 2,
   "id": "d662d036",
   "metadata": {},
   "outputs": [
    {
     "name": "stdout",
     "output_type": "stream",
     "text": [
      "✅ ChatOpenAI model initialized!\n",
      "Model: gpt-4o\n",
      "Temperature: 0.3\n",
      "Max tokens: 500\n"
     ]
    }
   ],
   "source": [
    "# Create a ChatOpenAI instance\n",
    "# We'll use GPT-4o for better financial reasoning\n",
    "chat_model = ChatOpenAI(\n",
    "    model=\"gpt-4o\",  # You can also try \"gpt-3.5-turbo\" for faster/cheaper responses\n",
    "    temperature=0.3,  # Lower temperature for more consistent financial advice\n",
    "    max_tokens=500    # Limit response length\n",
    ")\n",
    "\n",
    "print(\"✅ ChatOpenAI model initialized!\")\n",
    "print(f\"Model: {chat_model.model_name}\")\n",
    "print(f\"Temperature: {chat_model.temperature}\")\n",
    "print(f\"Max tokens: {chat_model.max_tokens}\")"
   ]
  },
  {
   "cell_type": "markdown",
   "id": "69e9fd1c",
   "metadata": {},
   "source": [
    "## Step 3: Create a Finance Advisor System Prompt\n",
    "\n",
    "The system message defines the personality and expertise of our chatbot. Let's create a professional finance advisor persona."
   ]
  },
  {
   "cell_type": "code",
   "execution_count": 3,
   "id": "85b10265",
   "metadata": {},
   "outputs": [
    {
     "name": "stdout",
     "output_type": "stream",
     "text": [
      "✅ System message created!\n",
      "System message preview:\n",
      "\n",
      "You are FinanceGPT, a knowledgeable and helpful financial advisor assistant. Your role is to:\n",
      "\n",
      "1. Explain financial terms and concepts in simple, easy-to-understand language\n",
      "2. Provide general invest...\n"
     ]
    }
   ],
   "source": [
    "# Create a system message that defines our finance advisor's personality and expertise\n",
    "system_message = SystemMessage(content=\"\"\"\n",
    "You are FinanceGPT, a knowledgeable and helpful financial advisor assistant. Your role is to:\n",
    "\n",
    "1. Explain financial terms and concepts in simple, easy-to-understand language\n",
    "2. Provide general investment advice and educational information\n",
    "3. Help users understand different financial products and strategies\n",
    "4. Always emphasize the importance of doing personal research and consulting with qualified financial professionals\n",
    "\n",
    "Guidelines:\n",
    "- Keep explanations clear and concise\n",
    "- Use examples when helpful\n",
    "- Always include appropriate disclaimers about investment risks\n",
    "- Be encouraging but realistic about financial goals\n",
    "- Never guarantee returns or promise specific outcomes\n",
    "\n",
    "Remember: You provide educational information, not personalized financial planning advice.\n",
    "\"\"\")\n",
    "\n",
    "print(\"✅ System message created!\")\n",
    "print(\"System message preview:\")\n",
    "print(system_message.content[:200] + \"...\")"
   ]
  },
  {
   "cell_type": "markdown",
   "id": "43b90baa",
   "metadata": {},
   "source": [
    "## Step 4: Test Basic Chatbot Functionality\n",
    "\n",
    "Let's test our finance advisor with some basic questions about financial terms and investment advice."
   ]
  },
  {
   "cell_type": "code",
   "execution_count": 4,
   "id": "15ab7d13",
   "metadata": {},
   "outputs": [
    {
     "name": "stdout",
     "output_type": "stream",
     "text": [
      "🔹 Test 1: Explaining Financial Terms\n",
      "==================================================\n",
      "Question: What is a dividend and how does it work?\n",
      "Answer: A dividend is a payment made by a corporation to its shareholders, usually as a distribution of profits. When a company earns a profit, it can choose to reinvest it back into the business, hold it as cash reserves, or distribute some of it to shareholders in the form of dividends. Here's how dividends work:\n",
      "\n",
      "1. **Declaration**: The company's board of directors decides if and when dividends will be paid, as well as how much each dividend will be. They announce the dividend amount and the payment schedule.\n",
      "\n",
      "2. **Ex-Dividend Date**: This is the cutoff date to determine which shareholders are eligible to receive the dividend. If you purchase the stock on or after this date, you will not receive the upcoming dividend.\n",
      "\n",
      "3. **Record Date**: This is the date when the company reviews its records to determine which shareholders are entitled to receive the dividend.\n",
      "\n",
      "4. **Payment Date**: This is the date on which the dividend is actually paid out to shareholders.\n",
      "\n",
      "Dividends can be paid in cash or additional shares of stock. Cash dividends provide shareholders with immediate income, while stock dividends increase the number of shares owned, potentially increasing future income if the company continues to pay dividends.\n",
      "\n",
      "**Example**: Suppose you own 100 shares of a company that declares a dividend of $0.50 per share. You would receive $50 in dividends (100 shares x $0.50 per share).\n",
      "\n",
      "**Important Considerations**:\n",
      "- Not all companies pay dividends. Typically, more established companies with stable earnings are more likely to pay regular dividends.\n",
      "- Dividend payments are not guaranteed and can be reduced or eliminated if the company faces financial difficulties.\n",
      "- Dividends are often a sign of a company's financial health, but they should not be the sole factor in investment decisions.\n",
      "\n",
      "**Disclaimer**: Investing in dividend-paying stocks involves risks, including the potential loss of principal. It's important to conduct thorough research and consult with a qualified financial professional before making investment decisions.\n",
      "\n"
     ]
    }
   ],
   "source": [
    "# Test our finance advisor with some sample questions\n",
    "def ask_finance_advisor(question):\n",
    "    \"\"\"Function to ask our finance advisor a question\"\"\"\n",
    "    messages = [\n",
    "        system_message,\n",
    "        HumanMessage(content=question)\n",
    "    ]\n",
    "    \n",
    "    response = chat_model.invoke(messages)\n",
    "    return response.content\n",
    "\n",
    "# Test 1: Explain a financial term\n",
    "print(\"🔹 Test 1: Explaining Financial Terms\")\n",
    "print(\"=\" * 50)\n",
    "question1 = \"What is a dividend and how does it work?\"\n",
    "response1 = ask_finance_advisor(question1)\n",
    "print(f\"Question: {question1}\")\n",
    "print(f\"Answer: {response1}\")\n",
    "print()"
   ]
  },
  {
   "cell_type": "code",
   "execution_count": 5,
   "id": "505e838d",
   "metadata": {},
   "outputs": [
    {
     "name": "stdout",
     "output_type": "stream",
     "text": [
      "🔹 Test 2: Basic Investment Advice\n",
      "==================================================\n",
      "Question: I'm 25 years old and just started working. What should I know about investing for retirement?\n",
      "Answer: Congratulations on starting your career and thinking about investing for retirement early on! Here are some key concepts and strategies to consider:\n",
      "\n",
      "1. **Start Early**: The earlier you start investing for retirement, the more time your money has to grow. This is due to the power of compound interest, where you earn returns on both your initial investment and the returns that accumulate over time.\n",
      "\n",
      "2. **Retirement Accounts**: Familiarize yourself with retirement accounts like a 401(k) or an IRA (Individual Retirement Account). These accounts often offer tax advantages. For example, contributions to a traditional 401(k) are made pre-tax, which can lower your taxable income.\n",
      "\n",
      "3. **Employer Match**: If your employer offers a 401(k) match, try to contribute enough to get the full match. This is essentially free money that can significantly boost your retirement savings.\n",
      "\n",
      "4. **Diversification**: Spread your investments across different asset classes (like stocks, bonds, and real estate) to reduce risk. Diversification helps protect your portfolio from significant losses if one investment performs poorly.\n",
      "\n",
      "5. **Risk Tolerance**: Understand your risk tolerance, which is your ability and willingness to endure market volatility. Generally, younger investors can afford to take more risks because they have more time to recover from market downturns.\n",
      "\n",
      "6. **Long-Term Focus**: Retirement investing is a long-term endeavor. It's important to stay focused on your long-term goals and not be swayed by short-term market fluctuations.\n",
      "\n",
      "7. **Regular Contributions**: Make regular contributions to your retirement accounts. Even small, consistent contributions can add up over time.\n",
      "\n",
      "8. **Education and Research**: Continuously educate yourself about investing and financial planning. The more informed you are, the better decisions you can make.\n",
      "\n",
      "9. **Consult Professionals**: Consider speaking with a financial advisor to help you create a personalized retirement plan. They can provide tailored advice based on your specific situation.\n",
      "\n",
      "Remember, investing involves risks, including the potential loss of principal. It's important to do your own research and consult with qualified financial professionals before making investment decisions. Starting early and staying informed can set you on a path to a secure retirement.\n",
      "\n",
      "🔹 Test 3: More Financial Terms\n",
      "==================================================\n",
      "Question: Can you explain the difference between stocks and bonds in simple terms?\n",
      "Answer: Certainly! Stocks and bonds are both ways for companies and governments to raise money, but they work quite differently.\n",
      "\n",
      "**Stocks:**\n",
      "- When you buy a stock, you're purchasing a small piece of ownership in a company. This makes you a shareholder.\n",
      "- As a shareholder, you can potentially earn money in two main ways: through dividends (a share of the company's profits) and by selling your stock at a higher price than you paid if the company's value increases.\n",
      "- Stocks can be risky because their value can fluctuate widely based on the company's performance and market conditions. However, they also offer the potential for higher returns over the long term.\n",
      "\n",
      "**Bonds:**\n",
      "- When you buy a bond, you're essentially lending money to a company or government. In return, they promise to pay you back the principal amount (the money you lent) on a specific date, along with regular interest payments.\n",
      "- Bonds are generally considered less risky than stocks because they provide regular interest income and the principal is returned at maturity. However, they typically offer lower returns compared to stocks.\n",
      "- The risk with bonds is that the issuer might default, meaning they can't pay back the principal or interest. This is why it's important to consider the creditworthiness of the issuer.\n",
      "\n",
      "In summary, stocks offer ownership and the potential for higher returns with higher risk, while bonds offer a lending arrangement with regular income and generally lower risk. It's important to balance these in your investment portfolio according to your financial goals and risk tolerance.\n",
      "\n",
      "Remember, investing always involves risks, including the loss of principal, and it's crucial to do your own research and consult with a financial professional before making investment decisions.\n",
      "\n"
     ]
    }
   ],
   "source": [
    "# Test 2: Basic investment advice\n",
    "print(\"🔹 Test 2: Basic Investment Advice\")\n",
    "print(\"=\" * 50)\n",
    "question2 = \"I'm 25 years old and just started working. What should I know about investing for retirement?\"\n",
    "response2 = ask_finance_advisor(question2)\n",
    "print(f\"Question: {question2}\")\n",
    "print(f\"Answer: {response2}\")\n",
    "print()\n",
    "\n",
    "# Test 3: Financial terminology\n",
    "print(\"🔹 Test 3: More Financial Terms\")\n",
    "print(\"=\" * 50)\n",
    "question3 = \"Can you explain the difference between stocks and bonds in simple terms?\"\n",
    "response3 = ask_finance_advisor(question3)\n",
    "print(f\"Question: {question3}\")\n",
    "print(f\"Answer: {response3}\")\n",
    "print()"
   ]
  },
  {
   "cell_type": "markdown",
   "id": "37e94d0e",
   "metadata": {},
   "source": [
    "## Step 5: Try It Yourself!\n",
    "\n",
    "Now it's your turn to experiment with the finance advisor. Try asking different questions!"
   ]
  },
  {
   "cell_type": "code",
   "execution_count": 6,
   "id": "561162c1",
   "metadata": {},
   "outputs": [
    {
     "name": "stdout",
     "output_type": "stream",
     "text": [
      "🔹 Your Question\n",
      "==================================================\n",
      "Question: What is compound interest and why is it important?\n",
      "Answer: Compound interest is a financial concept where the interest earned on an investment is reinvested to earn additional interest over time. This means that you earn interest not only on your initial principal (the original amount of money you invested) but also on the interest that accumulates over previous periods. This process can significantly increase the value of your investment over time.\n",
      "\n",
      "Here's a simple example to illustrate compound interest:\n",
      "\n",
      "Imagine you invest $1,000 at an annual interest rate of 5%. In the first year, you would earn $50 in interest, making your total $1,050. In the second year, you earn interest on the new total of $1,050, which would be $52.50, bringing your total to $1,102.50. This process continues, with each year's interest being calculated on the new total, which includes the previous year's interest.\n",
      "\n",
      "Compound interest is important because it can lead to exponential growth of your investments over time, especially if you start investing early and let your money grow for many years. This is why it's often referred to as the \"eighth wonder of the world\" by financial experts.\n",
      "\n",
      "Key points about compound interest:\n",
      "\n",
      "1. **Time is your ally**: The longer you let your money compound, the more you can benefit from this effect.\n",
      "2. **Frequency matters**: Interest can be compounded annually, semi-annually, quarterly, monthly, or even daily. The more frequently interest is compounded, the more you can earn.\n",
      "3. **Early start advantage**: Starting to invest early can have a significant impact on your financial future due to the power of compounding.\n",
      "\n",
      "However, it's important to remember that while compound interest can work in your favor with investments, it can also work against you with debts, such as credit cards, where interest compounds on the amount you owe.\n",
      "\n",
      "Always do your research and consider consulting with a financial advisor to understand how compound interest can fit into your financial strategy. Remember, investing involves risks, and past performance is not indicative of future results.\n",
      "\n",
      "💡 Suggested questions to try:\n",
      "- What is an emergency fund and how much should I save?\n",
      "- Explain ETFs vs mutual funds\n",
      "- What's the difference between 401k and IRA?\n",
      "- How does dollar-cost averaging work?\n",
      "- What should I know about risk tolerance?\n"
     ]
    }
   ],
   "source": [
    "# Try asking your own questions!\n",
    "# Edit the question below and run the cell to see the response\n",
    "\n",
    "your_question = \"What is compound interest and why is it important?\"\n",
    "\n",
    "print(\"🔹 Your Question\")\n",
    "print(\"=\" * 50)\n",
    "print(f\"Question: {your_question}\")\n",
    "print(f\"Answer: {ask_finance_advisor(your_question)}\")\n",
    "\n",
    "# Suggested questions to try:\n",
    "print(\"\\n💡 Suggested questions to try:\")\n",
    "print(\"- What is an emergency fund and how much should I save?\")\n",
    "print(\"- Explain ETFs vs mutual funds\")\n",
    "print(\"- What's the difference between 401k and IRA?\")\n",
    "print(\"- How does dollar-cost averaging work?\")\n",
    "print(\"- What should I know about risk tolerance?\")"
   ]
  },
  {
   "cell_type": "markdown",
   "id": "66df8bcd",
   "metadata": {},
   "source": [
    "## Step 6: Multi-turn Conversations\n",
    "\n",
    "Let's explore how to have longer conversations with context. We'll simulate a conversation where the advisor remembers previous messages."
   ]
  },
  {
   "cell_type": "code",
   "execution_count": 7,
   "id": "c846400b",
   "metadata": {},
   "outputs": [
    {
     "name": "stdout",
     "output_type": "stream",
     "text": [
      "🔹 First Exchange\n",
      "User: I'm 22 and have $1000 to invest. What should I do?\n",
      "Advisor: First off, it's great that you're thinking about investing at a young age! Investing early can give your money more time to grow due to the power of compounding. Here are a few general steps and options you might consider:\n",
      "\n",
      "1. **Set Clear Goals**: Determine what you're investing for. Is it for retirement, a major purchase, or just to grow your wealth? Your goals will influence your investment choices.\n",
      "\n",
      "2. **Understand Your Risk Tolerance**: Since you're young, you might have the ability to take on more risk, as you have time to recover from any potential losses. However, it's important to invest in a way that you're comfortable with.\n",
      "\n",
      "3. **Diversify Your Investments**: Diversification means spreading your money across different types of investments to reduce risk. Even with $1,000, you can achieve some level of diversification.\n",
      "\n",
      "4. **Consider Low-Cost Index Funds or ETFs**: These funds track a market index and can be a good way to diversify your investment with relatively low fees. For example, an S&P 500 index fund invests in the 500 largest U.S. companies.\n",
      "\n",
      "5. **Look into Robo-Advisors**: These are automated platforms that create and manage a diversified portfolio for you based on your risk tolerance and goals. They often have low minimum investment requirements and fees.\n",
      "\n",
      "6. **Think About a High-Yield Savings Account or CDs**: If you want to keep your money safe and accessible, consider a high-yield savings account or a certificate of deposit (CD). These options typically offer better interest rates than a standard savings account.\n",
      "\n",
      "7. **Educate Yourself**: Take the time to learn more about investing. There are many free resources online, including courses, articles, and videos.\n",
      "\n",
      "Remember, all investments come with risks, including the potential loss of principal. It's important to do your own research and consider consulting with a financial advisor to tailor a plan that fits your personal financial situation and goals.\n",
      "\n",
      "🔹 Second Exchange (with context)\n",
      "User: That sounds good, but I'm worried about losing money. How risky are these investments?\n",
      "Advisor: It's completely normal to be concerned about the risks involved in investing. Here's a brief overview of the risk levels associated with the options I mentioned:\n",
      "\n",
      "1. **Index Funds and ETFs**: These are generally considered moderate-risk investments. They provide diversification by investing in a broad range of stocks or bonds, which can help reduce risk. However, they are still subject to market fluctuations, meaning their value can go up or down based on market conditions.\n",
      "\n",
      "2. **Robo-Advisors**: The risk level here depends on the portfolio you choose. Robo-advisors typically offer a range of portfolios from conservative (lower risk) to aggressive (higher risk). The more aggressive the portfolio, the higher the potential for both gains and losses.\n",
      "\n",
      "3. **High-Yield Savings Accounts and CDs**: These are low-risk options. Your principal is generally safe, and they provide a predictable return in the form of interest. However, the trade-off is that the returns are typically lower compared to stocks or funds.\n",
      "\n",
      "To manage risk, it's important to:\n",
      "\n",
      "- **Diversify**: Spread your investments across different asset classes (stocks, bonds, etc.) to reduce the impact of any single investment's poor performance.\n",
      "- **Invest for the Long Term**: The longer your investment horizon, the more time you have to ride out market volatility.\n",
      "- **Stay Informed**: Keep learning about investing and stay updated on market trends.\n",
      "\n",
      "Ultimately, every investment carries some level of risk, including the potential loss of principal. It's crucial to invest in a way that aligns with your financial goals and risk tolerance. Consider speaking with a financial advisor to get personalized advice tailored to your situation.\n",
      "\n",
      "🔹 Third Exchange (continued context)\n",
      "User: What's a good timeline for these investments?\n",
      "Advisor: The timeline for your investments largely depends on your financial goals and personal circumstances. Here’s a general idea of how timelines might align with different investment strategies:\n",
      "\n",
      "1. **Short-Term (1-3 years)**:\n",
      "   - If you need the money in the near future, such as for a down payment on a car or a vacation, consider low-risk options like high-yield savings accounts or short-term CDs. These provide safety and liquidity, meaning you can access your money when you need it with minimal risk of loss.\n",
      "\n",
      "2. **Medium-Term (3-10 years)**:\n",
      "   - For goals like buying a home or funding further education, you might consider a balanced approach. This could include a mix of stocks and bonds through index funds or ETFs. This strategy aims to achieve growth while managing risk.\n",
      "\n",
      "3. **Long-Term (10+ years)**:\n",
      "   - For long-term goals such as retirement, you can afford to take on more risk because you have time to recover from market downturns. Investing in a diversified portfolio of stocks, such as through an S&P 500 index fund or a robo-advisor with a growth-oriented portfolio, can be beneficial. Historically, stocks have offered higher returns over the long term compared to other asset classes, though they come with higher volatility.\n",
      "\n",
      "Remember, these are general guidelines, and individual circumstances can vary. It's important to regularly review your investments and adjust your strategy as your goals and financial situation change. Always consider consulting with a financial advisor to develop a plan that's tailored to your specific needs and risk tolerance.\n"
     ]
    }
   ],
   "source": [
    "# Create a conversation with memory\n",
    "def have_conversation():\n",
    "    \"\"\"Simulate a multi-turn conversation with our finance advisor\"\"\"\n",
    "    \n",
    "    # Start with our system message\n",
    "    conversation = [system_message]\n",
    "    \n",
    "    # First exchange\n",
    "    user_msg1 = \"I'm 22 and have $1000 to invest. What should I do?\"\n",
    "    conversation.append(HumanMessage(content=user_msg1))\n",
    "    \n",
    "    response1 = chat_model.invoke(conversation)\n",
    "    conversation.append(response1)\n",
    "    \n",
    "    print(\"🔹 First Exchange\")\n",
    "    print(f\"User: {user_msg1}\")\n",
    "    print(f\"Advisor: {response1.content}\")\n",
    "    print()\n",
    "    \n",
    "    # Second exchange - building on the first\n",
    "    user_msg2 = \"That sounds good, but I'm worried about losing money. How risky are these investments?\"\n",
    "    conversation.append(HumanMessage(content=user_msg2))\n",
    "    \n",
    "    response2 = chat_model.invoke(conversation)\n",
    "    conversation.append(response2)\n",
    "    \n",
    "    print(\"🔹 Second Exchange (with context)\")\n",
    "    print(f\"User: {user_msg2}\")\n",
    "    print(f\"Advisor: {response2.content}\")\n",
    "    print()\n",
    "    \n",
    "    # Third exchange - follow-up question\n",
    "    user_msg3 = \"What's a good timeline for these investments?\"\n",
    "    conversation.append(HumanMessage(content=user_msg3))\n",
    "    \n",
    "    response3 = chat_model.invoke(conversation)\n",
    "    conversation.append(response3)\n",
    "    \n",
    "    print(\"🔹 Third Exchange (continued context)\")\n",
    "    print(f\"User: {user_msg3}\")\n",
    "    print(f\"Advisor: {response3.content}\")\n",
    "\n",
    "# Run the conversation\n",
    "have_conversation()"
   ]
  },
  {
   "cell_type": "markdown",
   "id": "9c316753",
   "metadata": {},
   "source": [
    "## Summary & Key Concepts\n",
    "\n",
    "In this exercise, you learned:\n",
    "\n",
    "### 🎯 **Teacher Shows** (What we covered):\n",
    "- **LangChain imports**: `ChatOpenAI`, `HumanMessage`, `SystemMessage`\n",
    "- **Model setup**: Configuring temperature, max_tokens, and model selection\n",
    "- **Basic prompting**: Creating system messages and user queries\n",
    "- **Message handling**: Working with different message types\n",
    "\n",
    "### 🤝 **We Do Together** (Practice exercises):\n",
    "\n",
    "**Exercise A**: Modify the system prompt to create a different type of advisor:\n",
    "```python\n",
    "# Try creating a \"Conservative Retirement Advisor\" \n",
    "# Focus on safe investments and risk management\n",
    "```\n",
    "\n",
    "**Exercise B**: Test edge cases:\n",
    "```python\n",
    "# What happens with very long questions?\n",
    "# How does the advisor handle complex financial calculations?\n",
    "```\n",
    "\n",
    "### 🚀 **You Do It** (Independent practice):\n",
    "\n",
    "1. **Create a specialized advisor**: Pick a finance niche (real estate, crypto, student loans) and create a specialized system prompt\n",
    "2. **Test different temperatures**: Try temperature values from 0.1 to 0.9 and observe how responses change\n",
    "3. **Experiment with prompts**: Create prompts that make the advisor more/less detailed in responses\n",
    "\n",
    "### 🎲 Challenge Exercises:\n",
    "- Create a \"Young Professional\" advisor that focuses on early career financial decisions\n",
    "- Build a prompt that makes the advisor explain things using analogies\n",
    "- Test how the advisor handles controversial financial topics\n",
    "\n",
    "### Next Steps:\n",
    "Continue to **Exercise 2** where we'll learn about **Prompt Templates** and create multiple advisor personas!"
   ]
  }
 ],
 "metadata": {
  "kernelspec": {
   "display_name": "code",
   "language": "python",
   "name": "python3"
  },
  "language_info": {
   "codemirror_mode": {
    "name": "ipython",
    "version": 3
   },
   "file_extension": ".py",
   "mimetype": "text/x-python",
   "name": "python",
   "nbconvert_exporter": "python",
   "pygments_lexer": "ipython3",
   "version": "3.12.1"
  }
 },
 "nbformat": 4,
 "nbformat_minor": 5
}
