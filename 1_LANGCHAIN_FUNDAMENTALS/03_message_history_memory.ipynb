{
 "cells": [
  {
   "cell_type": "markdown",
   "id": "60ca9a8f",
   "metadata": {},
   "source": [
    "# Exercise 3: Message History & Memory\n",
    "## Building Financial Advisors with Conversation Memory\n",
    "\n",
    "In this notebook, we'll learn how to add conversation memory to our financial advisors so they can track portfolio discussions and remember previous conversations about financial goals.\n",
    "\n",
    "## Learning Objectives\n",
    "- Understand LangChain message history and memory concepts\n",
    "- Implement conversation memory for financial discussions\n",
    "- Create a financial goal tracker that remembers context\n",
    "- Use MessagesPlaceholder, HumanMessage, and AIMessage\n",
    "- Build persistent chat history for portfolio management\n",
    "\n",
    "Let's build memory-enabled financial advisors! 🧠💰"
   ]
  },
  {
   "cell_type": "markdown",
   "id": "8495bc6f",
   "metadata": {},
   "source": [
    "## Setup and Imports\n",
    "\n",
    "First, let's install and import the necessary libraries for working with message history and memory."
   ]
  },
  {
   "cell_type": "code",
   "execution_count": 1,
   "id": "b002ad23",
   "metadata": {},
   "outputs": [
    {
     "name": "stdout",
     "output_type": "stream",
     "text": [
      "\u001b[1m\u001b[33mwarning\u001b[39m\u001b[0m\u001b[1m:\u001b[0m \u001b[1mNo `requires-python` value found in the workspace. Defaulting to `>=3.12`.\u001b[0m\n",
      "\u001b[2mResolved \u001b[1m383 packages\u001b[0m \u001b[2min 4ms\u001b[0m\u001b[0m\n",
      "\u001b[2mAudited \u001b[1m214 packages\u001b[0m \u001b[2min 0.12ms\u001b[0m\u001b[0m\n"
     ]
    }
   ],
   "source": [
    "# Install required packages\n",
    "!uv add langchain langchain-openai python-dotenv"
   ]
  },
  {
   "cell_type": "code",
   "execution_count": 2,
   "id": "38e724cb",
   "metadata": {},
   "outputs": [
    {
     "name": "stdout",
     "output_type": "stream",
     "text": [
      "✓ Setup complete!\n",
      "✓ Memory components imported!\n",
      "✓ Ready to build memory-enabled financial advisors!\n"
     ]
    }
   ],
   "source": [
    "# Import necessary libraries\n",
    "from langchain_openai import ChatOpenAI\n",
    "from langchain.prompts import ChatPromptTemplate, MessagesPlaceholder\n",
    "from langchain.schema import HumanMessage, AIMessage, SystemMessage\n",
    "from langchain.memory import ConversationBufferMemory, ConversationSummaryMemory\n",
    "import os\n",
    "from dotenv import load_dotenv\n",
    "from datetime import datetime\n",
    "\n",
    "# Load environment variables\n",
    "load_dotenv()\n",
    "\n",
    "# Initialize ChatOpenAI\n",
    "llm = ChatOpenAI(\n",
    "    model=\"gpt-3.5-turbo\",\n",
    "    temperature=0.5,  # Slightly lower for consistent financial advice\n",
    "    api_key=os.getenv(\"OPENAI_API_KEY\")\n",
    ")\n",
    "\n",
    "print(\"✓ Setup complete!\")\n",
    "print(\"✓ Memory components imported!\")\n",
    "print(\"✓ Ready to build memory-enabled financial advisors!\")"
   ]
  },
  {
   "cell_type": "markdown",
   "id": "698f9217",
   "metadata": {},
   "source": [
    "## Part 1: Understanding Message History\n",
    "\n",
    "Let's start by understanding how to manually create and manage message history using HumanMessage and AIMessage."
   ]
  },
  {
   "cell_type": "code",
   "execution_count": 3,
   "id": "aa123452",
   "metadata": {},
   "outputs": [
    {
     "name": "stdout",
     "output_type": "stream",
     "text": [
      "AI Response with Context:\n",
      "A common rule of thumb is the \"100 minus your age\" rule. Since you're 30, you could consider allocating around 70% to stocks (for long-term growth) and 30% to bonds or other safer investments (for short-term stability). You can adjust this allocation based on your risk tolerance and financial goals.\n",
      "\n",
      "✓ Conversation now has 7 messages\n"
     ]
    }
   ],
   "source": [
    "# Create a simple conversation history\n",
    "conversation_history = [\n",
    "    SystemMessage(content=\"You are a helpful financial advisor specializing in portfolio management.\"),\n",
    "    HumanMessage(content=\"Hi, I'm 30 years old and want to start investing. I have $50,000 to invest.\"),\n",
    "    AIMessage(content=\"Great! At 30, you have a good time horizon for investing. With $50,000, I'd recommend a diversified approach. What are your main financial goals - retirement, house purchase, or general wealth building?\"),\n",
    "    HumanMessage(content=\"I want to save for retirement and maybe buy a house in 5-7 years.\"),\n",
    "    AIMessage(content=\"Perfect! For dual goals like retirement and house purchase, I'd suggest splitting your investments. For the house fund (shorter term), consider safer investments like bonds or CDs. For retirement (longer term), you can be more aggressive with stocks and index funds.\")\n",
    "]\n",
    "\n",
    "# Use the conversation history in a new query\n",
    "new_message = HumanMessage(content=\"What specific percentage should I allocate to each category?\")\n",
    "conversation_history.append(new_message)\n",
    "\n",
    "# Get response with full context\n",
    "response = llm.invoke(conversation_history)\n",
    "print(\"AI Response with Context:\")\n",
    "print(response.content)\n",
    "\n",
    "# Add the AI response to history\n",
    "conversation_history.append(AIMessage(content=response.content))\n",
    "print(f\"\\n✓ Conversation now has {len(conversation_history)} messages\")"
   ]
  },
  {
   "cell_type": "markdown",
   "id": "87814666",
   "metadata": {},
   "source": [
    "## Part 2: Using MessagesPlaceholder for Dynamic History\n",
    "\n",
    "Now let's use MessagesPlaceholder to create templates that can dynamically include conversation history."
   ]
  },
  {
   "cell_type": "code",
   "execution_count": 4,
   "id": "b80fa30c",
   "metadata": {},
   "outputs": [
    {
     "name": "stdout",
     "output_type": "stream",
     "text": [
      "✓ Portfolio advisor template created with MessagesPlaceholder\n",
      "\n",
      "Portfolio Advisor Response:\n",
      "Given your moderate risk tolerance and long investment horizon, a diversified portfolio of stocks and bonds would be suitable. Here's a recommended allocation:\n",
      "\n",
      "- 70% in a diversified portfolio of low-cost index funds or ETFs that track the overall stock market (such as S&P 500 or total stock market index).\n",
      "- 30% in a diversified portfolio of bond funds to provide stability and lower overall portfolio volatility.\n",
      "\n",
      "This allocation aims to balance growth potential with risk management. Regularly review and adjust your portfolio as needed to stay aligned with your financial goals.\n"
     ]
    }
   ],
   "source": [
    "# Create a chat template with MessagesPlaceholder\n",
    "portfolio_advisor_template = ChatPromptTemplate.from_messages([\n",
    "    (\"system\", \"\"\"You are an expert portfolio advisor with deep knowledge of investment strategies. \n",
    "    You help clients build and manage their investment portfolios based on their goals, risk tolerance, and time horizon.\n",
    "    \n",
    "    Always consider the conversation history to provide contextual and personalized advice.\n",
    "    Be specific with allocation percentages and investment recommendations.\"\"\"),\n",
    "    MessagesPlaceholder(variable_name=\"chat_history\"),\n",
    "    (\"human\", \"{input}\")\n",
    "])\n",
    "\n",
    "print(\"✓ Portfolio advisor template created with MessagesPlaceholder\")\n",
    "\n",
    "# Test the template\n",
    "test_history = [\n",
    "    HumanMessage(content=\"I'm 25 years old and want to start investing $1000 per month.\"),\n",
    "    AIMessage(content=\"That's excellent! At 25, you have a 40-year investment horizon for retirement. With $1000 monthly, you could build substantial wealth. What's your risk tolerance - conservative, moderate, or aggressive?\"),\n",
    "    HumanMessage(content=\"I'd say I'm moderate risk tolerance.\")\n",
    "]\n",
    "\n",
    "# Format the prompt with history\n",
    "formatted_prompt = portfolio_advisor_template.format_prompt(\n",
    "    chat_history=test_history,\n",
    "    input=\"Based on our discussion, what specific portfolio allocation would you recommend?\"\n",
    ")\n",
    "\n",
    "# Get response\n",
    "response = llm.invoke(formatted_prompt.to_messages())\n",
    "print(\"\\nPortfolio Advisor Response:\")\n",
    "print(response.content)"
   ]
  },
  {
   "cell_type": "markdown",
   "id": "16146ffb",
   "metadata": {},
   "source": [
    "## Part 3: Building a Financial Goal Tracker with Memory\n",
    "\n",
    "Let's create a comprehensive financial goal tracker that remembers client information and tracks progress over time."
   ]
  },
  {
   "cell_type": "code",
   "execution_count": 5,
   "id": "af363010",
   "metadata": {},
   "outputs": [
    {
     "name": "stdout",
     "output_type": "stream",
     "text": [
      "✓ Financial Goal Tracker created!\n"
     ]
    }
   ],
   "source": [
    "class FinancialGoalTracker:\n",
    "    \"\"\"A financial advisor that remembers client information and tracks financial goals.\"\"\"\n",
    "    \n",
    "    def __init__(self, llm):\n",
    "        self.llm = llm\n",
    "        self.conversation_history = []\n",
    "        self.client_profile = {}\n",
    "        self.financial_goals = []\n",
    "        \n",
    "        # Create the advisor template\n",
    "        self.template = ChatPromptTemplate.from_messages([\n",
    "            (\"system\", \"\"\"You are a personal financial advisor with access to the client's complete history.\n",
    "            \n",
    "            Client Profile: {client_profile}\n",
    "            Financial Goals: {financial_goals}\n",
    "            \n",
    "            Use this information to provide personalized, contextual advice. Always reference previous discussions\n",
    "            and track progress toward their goals. Be encouraging and specific in your recommendations.\"\"\"),\n",
    "            MessagesPlaceholder(variable_name=\"chat_history\"),\n",
    "            (\"human\", \"{input}\")\n",
    "        ])\n",
    "    \n",
    "    def add_client_info(self, key, value):\n",
    "        \"\"\"Add or update client profile information.\"\"\"\n",
    "        self.client_profile[key] = value\n",
    "        print(f\"✓ Updated client profile: {key} = {value}\")\n",
    "    \n",
    "    def add_financial_goal(self, goal, target_amount, target_date):\n",
    "        \"\"\"Add a new financial goal.\"\"\"\n",
    "        goal_info = {\n",
    "            \"goal\": goal,\n",
    "            \"target_amount\": target_amount,\n",
    "            \"target_date\": target_date,\n",
    "            \"date_added\": datetime.now().strftime(\"%Y-%m-%d\")\n",
    "        }\n",
    "        self.financial_goals.append(goal_info)\n",
    "        print(f\"✓ Added financial goal: {goal} - ${target_amount:,} by {target_date}\")\n",
    "    \n",
    "    def chat(self, message):\n",
    "        \"\"\"Have a conversation with the financial advisor.\"\"\"\n",
    "        # Prepare the prompt\n",
    "        prompt = self.template.format_prompt(\n",
    "            client_profile=str(self.client_profile),\n",
    "            financial_goals=str(self.financial_goals),\n",
    "            chat_history=self.conversation_history,\n",
    "            input=message\n",
    "        )\n",
    "        \n",
    "        # Get response\n",
    "        response = self.llm.invoke(prompt.to_messages())\n",
    "        \n",
    "        # Update conversation history\n",
    "        self.conversation_history.append(HumanMessage(content=message))\n",
    "        self.conversation_history.append(AIMessage(content=response.content))\n",
    "        \n",
    "        return response.content\n",
    "    \n",
    "    def get_conversation_summary(self):\n",
    "        \"\"\"Get a summary of the conversation.\"\"\"\n",
    "        return {\n",
    "            \"client_profile\": self.client_profile,\n",
    "            \"financial_goals\": self.financial_goals,\n",
    "            \"conversation_length\": len(self.conversation_history),\n",
    "            \"last_updated\": datetime.now().strftime(\"%Y-%m-%d %H:%M\")\n",
    "        }\n",
    "\n",
    "# Create a financial goal tracker instance\n",
    "advisor = FinancialGoalTracker(llm)\n",
    "print(\"✓ Financial Goal Tracker created!\")"
   ]
  },
  {
   "cell_type": "markdown",
   "id": "39895f0b",
   "metadata": {},
   "source": [
    "## Part 4: Demonstrating the Financial Goal Tracker\n",
    "\n",
    "Let's see our Financial Goal Tracker in action with a realistic scenario!"
   ]
  },
  {
   "cell_type": "code",
   "execution_count": 6,
   "id": "2c5ff421",
   "metadata": {},
   "outputs": [
    {
     "name": "stdout",
     "output_type": "stream",
     "text": [
      "=== Setting up Sarah's Financial Profile ===\n",
      "✓ Updated client profile: name = Sarah Chen\n",
      "✓ Updated client profile: age = 28\n",
      "✓ Updated client profile: occupation = Software Engineer\n",
      "✓ Updated client profile: annual_income = 95000\n",
      "✓ Updated client profile: current_savings = 15000\n",
      "✓ Updated client profile: monthly_savings = 2000\n",
      "✓ Added financial goal: Emergency Fund - $30,000 by 2025-12-31\n",
      "✓ Added financial goal: House Down Payment - $80,000 by 2028-01-01\n",
      "✓ Added financial goal: Retirement - $1,000,000 by 2058-01-01\n",
      "\n",
      "=== Starting Conversation ===\n",
      "Advisor: Hi Sarah! I'm glad to hear that you're thinking about investing your savings wisely. Given your financial goals and current situation, we can tailor an investment strategy that aligns with your object...\n",
      "\n",
      "==================================================\n",
      "Advisor: That's a valid concern, Sarah. Market volatility can impact the value of your investments, especially in the short term. Since your house down payment goal has a specific timeline of January 1, 2028, ...\n",
      "\n",
      "==================================================\n",
      "Advisor: That's great progress, Sarah! Saving $18,000 in just 6 months is commendable and puts you well on track towards your financial goals. Let's reassess your current situation and see if any adjustments t...\n"
     ]
    }
   ],
   "source": [
    "# Let's create a complete example with Sarah, a 28-year-old software engineer\n",
    "print(\"=== Setting up Sarah's Financial Profile ===\")\n",
    "\n",
    "# Add client information\n",
    "advisor.add_client_info(\"name\", \"Sarah Chen\")\n",
    "advisor.add_client_info(\"age\", 28)\n",
    "advisor.add_client_info(\"occupation\", \"Software Engineer\")\n",
    "advisor.add_client_info(\"annual_income\", 95000)\n",
    "advisor.add_client_info(\"current_savings\", 15000)\n",
    "advisor.add_client_info(\"monthly_savings\", 2000)\n",
    "\n",
    "# Add financial goals\n",
    "advisor.add_financial_goal(\"Emergency Fund\", 30000, \"2025-12-31\")\n",
    "advisor.add_financial_goal(\"House Down Payment\", 80000, \"2028-01-01\")\n",
    "advisor.add_financial_goal(\"Retirement\", 1000000, \"2058-01-01\")\n",
    "\n",
    "print(\"\\n=== Starting Conversation ===\")\n",
    "# First conversation\n",
    "response1 = advisor.chat(\"Hi! I'm Sarah. I've been saving money but I'm not sure how to invest it wisely. Can you help me create an investment strategy?\")\n",
    "print(\"Advisor:\", response1[:200] + \"...\" if len(response1) > 200 else response1)\n",
    "\n",
    "print(\"\\n\" + \"=\"*50)\n",
    "# Second conversation - the advisor should remember everything\n",
    "response2 = advisor.chat(\"I'm particularly worried about market volatility. Given my timeline for buying a house, should I keep that money in safer investments?\")\n",
    "print(\"Advisor:\", response2[:200] + \"...\" if len(response2) > 200 else response2)\n",
    "\n",
    "print(\"\\n\" + \"=\"*50)\n",
    "# Third conversation - asking about progress\n",
    "response3 = advisor.chat(\"It's been 6 months since we started. I've been following your advice and now have $18,000 saved. Should I adjust my strategy?\")\n",
    "print(\"Advisor:\", response3[:200] + \"...\" if len(response3) > 200 else response3)"
   ]
  },
  {
   "cell_type": "code",
   "execution_count": 7,
   "id": "55e531e2",
   "metadata": {},
   "outputs": [
    {
     "name": "stdout",
     "output_type": "stream",
     "text": [
      "=== Conversation Summary ===\n",
      "Client Profile: {'name': 'Sarah Chen', 'age': 28, 'occupation': 'Software Engineer', 'annual_income': 95000, 'current_savings': 15000, 'monthly_savings': 2000}\n",
      "Financial Goals: 3 goals tracked\n",
      "Conversation Length: 6 messages\n",
      "Last Updated: 2025-07-06 08:12\n",
      "\n",
      "=== Full Conversation History ===\n",
      "1. Human: Hi! I'm Sarah. I've been saving money but I'm not sure how to invest it wisely. Can you help me crea...\n",
      "2. AI: Hi Sarah! I'm glad to hear that you're thinking about investing your savings wisely. Given your fina...\n",
      "3. Human: I'm particularly worried about market volatility. Given my timeline for buying a house, should I kee...\n",
      "4. AI: That's a valid concern, Sarah. Market volatility can impact the value of your investments, especiall...\n",
      "5. Human: It's been 6 months since we started. I've been following your advice and now have $18,000 saved. Sho...\n",
      "6. AI: That's great progress, Sarah! Saving $18,000 in just 6 months is commendable and puts you well on tr...\n",
      "\n",
      "=== Testing Memory - New Question ===\n",
      "Advisor: When we first started our discussions, your current savings amount was $15,000. Since then, you have diligently saved an additional $3,000, bringing your total savings to $18,000. It's impressive to see how your consistent savings habits are helping you make progress towards your financial goals. If you have any more questions or need further assistance, feel free to ask!\n"
     ]
    }
   ],
   "source": [
    "# Let's examine what the advisor remembers about Sarah\n",
    "print(\"=== Conversation Summary ===\")\n",
    "summary = advisor.get_conversation_summary()\n",
    "print(f\"Client Profile: {summary['client_profile']}\")\n",
    "print(f\"Financial Goals: {len(summary['financial_goals'])} goals tracked\")\n",
    "print(f\"Conversation Length: {summary['conversation_length']} messages\")\n",
    "print(f\"Last Updated: {summary['last_updated']}\")\n",
    "\n",
    "print(\"\\n=== Full Conversation History ===\")\n",
    "for i, message in enumerate(advisor.conversation_history):\n",
    "    speaker = \"Human\" if isinstance(message, HumanMessage) else \"AI\"\n",
    "    content = message.content[:100] + \"...\" if len(message.content) > 100 else message.content\n",
    "    print(f\"{i+1}. {speaker}: {content}\")\n",
    "\n",
    "print(\"\\n=== Testing Memory - New Question ===\")\n",
    "# Test that the advisor remembers the context\n",
    "response4 = advisor.chat(\"Quick question - what was my current savings amount when we first started talking?\")\n",
    "print(\"Advisor:\", response4)"
   ]
  },
  {
   "cell_type": "markdown",
   "id": "2bf997c9",
   "metadata": {},
   "source": [
    "## Part 5: Advanced Memory Techniques\n",
    "\n",
    "Let's explore different types of memory that LangChain provides for more sophisticated conversation handling."
   ]
  },
  {
   "cell_type": "code",
   "execution_count": 8,
   "id": "c2bf4464",
   "metadata": {},
   "outputs": [
    {
     "name": "stdout",
     "output_type": "stream",
     "text": [
      "=== ConversationBufferMemory ===\n",
      "Buffer Memory Contents:\n",
      "  Human: I want to invest $10,000 in index funds.\n",
      "  AI: Great choice! Index funds offer diversification and low fees. I'd recommend a mix of total stock market and international funds.\n",
      "  Human: What percentage should I allocate to each?\n",
      "  AI: For a balanced approach, consider 70% total stock market and 30% international funds.\n",
      "\n",
      "Total messages in buffer: 4\n",
      "\n",
      "==================================================\n",
      "=== ConversationSummaryMemory ===\n",
      "Summary Memory Contents:\n",
      "Summary: \n",
      "Total messages: 6\n",
      "\n",
      "✓ Memory techniques demonstrated!\n",
      "✓ Buffer Memory: Keeps all messages (good for short conversations)\n",
      "✓ Summary Memory: Summarizes old messages (good for long conversations)\n"
     ]
    },
    {
     "name": "stderr",
     "output_type": "stream",
     "text": [
      "/tmp/ipykernel_9763/1144786237.py:3: LangChainDeprecationWarning: Please see the migration guide at: https://python.langchain.com/docs/versions/migrating_memory/\n",
      "  buffer_memory = ConversationBufferMemory(return_messages=True)\n",
      "/tmp/ipykernel_9763/1144786237.py:23: LangChainDeprecationWarning: Please see the migration guide at: https://python.langchain.com/docs/versions/migrating_memory/\n",
      "  summary_memory = ConversationSummaryMemory(\n"
     ]
    }
   ],
   "source": [
    "# 1. ConversationBufferMemory - Keeps all messages in memory\n",
    "print(\"=== ConversationBufferMemory ===\")\n",
    "buffer_memory = ConversationBufferMemory(return_messages=True)\n",
    "\n",
    "# Add some conversation to memory\n",
    "buffer_memory.chat_memory.add_user_message(\"I want to invest $10,000 in index funds.\")\n",
    "buffer_memory.chat_memory.add_ai_message(\"Great choice! Index funds offer diversification and low fees. I'd recommend a mix of total stock market and international funds.\")\n",
    "buffer_memory.chat_memory.add_user_message(\"What percentage should I allocate to each?\")\n",
    "buffer_memory.chat_memory.add_ai_message(\"For a balanced approach, consider 70% total stock market and 30% international funds.\")\n",
    "\n",
    "# Check memory contents\n",
    "print(\"Buffer Memory Contents:\")\n",
    "for message in buffer_memory.chat_memory.messages:\n",
    "    speaker = \"Human\" if isinstance(message, HumanMessage) else \"AI\"\n",
    "    print(f\"  {speaker}: {message.content}\")\n",
    "\n",
    "print(f\"\\nTotal messages in buffer: {len(buffer_memory.chat_memory.messages)}\")\n",
    "\n",
    "print(\"\\n\" + \"=\"*50)\n",
    "\n",
    "# 2. ConversationSummaryMemory - Summarizes old conversations\n",
    "print(\"=== ConversationSummaryMemory ===\")\n",
    "summary_memory = ConversationSummaryMemory(\n",
    "    llm=llm,\n",
    "    return_messages=True,\n",
    "    max_token_limit=100  # Keep summaries short for demo\n",
    ")\n",
    "\n",
    "# Add the same conversation\n",
    "summary_memory.chat_memory.add_user_message(\"I want to invest $10,000 in index funds.\")\n",
    "summary_memory.chat_memory.add_ai_message(\"Great choice! Index funds offer diversification and low fees. I'd recommend a mix of total stock market and international funds.\")\n",
    "summary_memory.chat_memory.add_user_message(\"What percentage should I allocate to each?\")\n",
    "summary_memory.chat_memory.add_ai_message(\"For a balanced approach, consider 70% total stock market and 30% international funds.\")\n",
    "\n",
    "# Add more conversation to trigger summarization\n",
    "summary_memory.chat_memory.add_user_message(\"Should I rebalance my portfolio quarterly?\")\n",
    "summary_memory.chat_memory.add_ai_message(\"Quarterly rebalancing is good practice. It helps maintain your target allocation without over-trading.\")\n",
    "\n",
    "print(\"Summary Memory Contents:\")\n",
    "print(f\"Summary: {summary_memory.buffer}\")\n",
    "print(f\"Total messages: {len(summary_memory.chat_memory.messages)}\")\n",
    "\n",
    "print(\"\\n✓ Memory techniques demonstrated!\")\n",
    "print(\"✓ Buffer Memory: Keeps all messages (good for short conversations)\")\n",
    "print(\"✓ Summary Memory: Summarizes old messages (good for long conversations)\")"
   ]
  },
  {
   "cell_type": "markdown",
   "id": "596c1663",
   "metadata": {},
   "source": [
    "## Part 6: Interactive Exercise\n",
    "\n",
    "Now it's your turn! Create your own financial advisor conversation and experiment with memory."
   ]
  },
  {
   "cell_type": "code",
   "execution_count": 9,
   "id": "f1243935",
   "metadata": {},
   "outputs": [
    {
     "name": "stdout",
     "output_type": "stream",
     "text": [
      "✓ Updated client profile: name = Your Name Here\n",
      "✓ Updated client profile: age = 25\n",
      "✓ Updated client profile: occupation = Your Job\n",
      "✓ Updated client profile: annual_income = 60000\n",
      "✓ Updated client profile: current_savings = 10000\n",
      "✓ Added financial goal: Emergency Fund - $20,000 by 2025-06-01\n",
      "✓ Added financial goal: Vacation - $5,000 by 2025-12-01\n",
      "=== Your Financial Advisor Conversation ===\n",
      "Advisor: Hello! As you're just getting started with investing, it's great to see you taking this step towards building your financial future. Given your current financial situation and goals, here are a few recommendations to help you focus on first:\n",
      "\n",
      "1. **Emergency Fund**: Since you have a goal of building an emergency fund with a target amount of $20,000 by June 2025, I recommend prioritizing this goal. Aim to set aside a portion of your monthly income towards your emergency fund until you reach your target amount. This fund will provide you with a financial safety net in case of unexpected expenses or emergencies.\n",
      "\n",
      "2. **Budgeting**: Creating a detailed budget can help you track your income and expenses, allowing you to identify areas where you can save more towards your goals. Consider using budgeting tools or apps to help you manage your finances effectively.\n",
      "\n",
      "3. **Investing**: Once you have established your emergency fund and have a clear understanding of your budget, you can start exploring investment options. Given your age and financial goals, you may consider investing in a diversified portfolio that aligns with your risk tolerance and time horizon.\n",
      "\n",
      "4. **Educate Yourself**: Take the time to educate yourself about different investment options, such as stocks, bonds, mutual funds, and retirement accounts. Consider seeking advice from a financial advisor to help you make informed investment decisions.\n",
      "\n",
      "Remember, investing is a long-term journey, and it's essential to stay focused on your goals while monitoring your progress regularly. If you have any specific questions or need further guidance, feel free to ask!\n",
      "\n",
      "==================================================\n",
      "Continue the conversation by adding more advisor.chat() calls below!\n",
      "Try asking about:\n",
      "- Specific investment recommendations\n",
      "- How to prioritize your goals\n",
      "- Risk tolerance assessment\n",
      "- Portfolio rebalancing strategies\n"
     ]
    }
   ],
   "source": [
    "# Create your own financial advisor client!\n",
    "# TODO: Customize this section with your own client information\n",
    "\n",
    "# 1. Create a new advisor instance\n",
    "my_advisor = FinancialGoalTracker(llm)\n",
    "\n",
    "# 2. Add your client information (customize these values)\n",
    "my_advisor.add_client_info(\"name\", \"Your Name Here\")\n",
    "my_advisor.add_client_info(\"age\", 25)  # Change to your age\n",
    "my_advisor.add_client_info(\"occupation\", \"Your Job\")\n",
    "my_advisor.add_client_info(\"annual_income\", 60000)  # Change to your income\n",
    "my_advisor.add_client_info(\"current_savings\", 10000)  # Change to your savings\n",
    "\n",
    "# 3. Add financial goals (customize these)\n",
    "my_advisor.add_financial_goal(\"Emergency Fund\", 20000, \"2025-06-01\")\n",
    "my_advisor.add_financial_goal(\"Vacation\", 5000, \"2025-12-01\")\n",
    "# Add more goals as needed\n",
    "\n",
    "# 4. Start your conversation\n",
    "print(\"=== Your Financial Advisor Conversation ===\")\n",
    "response = my_advisor.chat(\"Hi! I'm just getting started with investing. What should I focus on first?\")\n",
    "print(\"Advisor:\", response)\n",
    "\n",
    "print(\"\\n\" + \"=\"*50)\n",
    "print(\"Continue the conversation by adding more advisor.chat() calls below!\")\n",
    "print(\"Try asking about:\")\n",
    "print(\"- Specific investment recommendations\")\n",
    "print(\"- How to prioritize your goals\")\n",
    "print(\"- Risk tolerance assessment\")\n",
    "print(\"- Portfolio rebalancing strategies\")\n",
    "\n",
    "# Add your own questions here:\n",
    "# response2 = my_advisor.chat(\"Your question here\")\n",
    "# print(\"Advisor:\", response2)"
   ]
  },
  {
   "cell_type": "markdown",
   "id": "d7b38272",
   "metadata": {},
   "source": [
    "## Summary & Best Practices\n",
    "\n",
    "### What You've Learned 🎓\n",
    "\n",
    "In this notebook, you've mastered the fundamentals of message history and memory in LangChain:\n",
    "\n",
    "1. **Manual Message History**: Creating conversation flows with `HumanMessage` and `AIMessage`\n",
    "2. **MessagesPlaceholder**: Dynamic templates that can include conversation history\n",
    "3. **Financial Goal Tracker**: A comprehensive class that tracks client profiles and conversation history\n",
    "4. **Memory Types**: Buffer memory vs. summary memory for different use cases\n",
    "5. **Persistent Context**: How to maintain context across multiple conversation turns\n",
    "\n",
    "### Key Concepts Mastered 🔑\n",
    "\n",
    "- **Message Types**: SystemMessage, HumanMessage, AIMessage\n",
    "- **Template Design**: Using MessagesPlaceholder for dynamic conversations\n",
    "- **Memory Management**: Choosing between buffer and summary memory\n",
    "- **Context Persistence**: Maintaining client information across conversations\n",
    "- **Conversation Flow**: Building natural, contextual financial advisory conversations\n",
    "\n",
    "### Best Practices for Memory-Enabled Chatbots 💡\n",
    "\n",
    "1. **Choose the Right Memory Type**\n",
    "   - Buffer Memory: Short conversations, need full context\n",
    "   - Summary Memory: Long conversations, want to save tokens\n",
    "   - Custom Memory: Specific business logic requirements\n",
    "\n",
    "2. **Structure Your Data**\n",
    "   - Keep client profiles organized\n",
    "   - Track goals and progress separately\n",
    "   - Use timestamps for tracking progress\n",
    "\n",
    "3. **Design for Context**\n",
    "   - Include relevant information in system messages\n",
    "   - Use conversation history to personalize responses\n",
    "   - Reference previous discussions naturally\n",
    "\n",
    "4. **Handle Memory Efficiently**\n",
    "   - Monitor conversation length\n",
    "   - Implement memory limits when needed\n",
    "   - Consider summarization for long conversations\n",
    "\n",
    "### Next Steps 🚀\n",
    "\n",
    "- Experiment with different memory configurations\n",
    "- Build more complex financial tracking systems\n",
    "- Integrate with databases for persistent storage\n",
    "- Add features like goal progress tracking and reminders\n",
    "\n",
    "Great work! You now have the foundation to build sophisticated conversational AI systems with memory! 🎉"
   ]
  }
 ],
 "metadata": {
  "kernelspec": {
   "display_name": ".venv",
   "language": "python",
   "name": "python3"
  },
  "language_info": {
   "codemirror_mode": {
    "name": "ipython",
    "version": 3
   },
   "file_extension": ".py",
   "mimetype": "text/x-python",
   "name": "python",
   "nbconvert_exporter": "python",
   "pygments_lexer": "ipython3",
   "version": "3.12.1"
  }
 },
 "nbformat": 4,
 "nbformat_minor": 5
}
