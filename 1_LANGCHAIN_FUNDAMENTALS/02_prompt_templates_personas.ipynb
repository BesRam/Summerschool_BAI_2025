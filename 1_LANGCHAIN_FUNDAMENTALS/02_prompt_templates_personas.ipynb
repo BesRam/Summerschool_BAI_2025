{
 "cells": [
  {
   "cell_type": "markdown",
   "id": "ca3228bf",
   "metadata": {},
   "source": [
    "# Exercise 2: Prompt Templates & Personas\n",
    "## Financial Advisor with Different Personalities\n",
    "\n",
    "In this notebook, we'll learn how to create structured prompts using LangChain's prompt templates and develop different financial advisor personas.\n",
    "\n",
    "## Learning Objectives\n",
    "- Understand LangChain PromptTemplate basics\n",
    "- Create reusable prompt templates for finance\n",
    "- Develop different financial advisor personas\n",
    "- Practice variable substitution in prompts\n",
    "- Build specialized financial advice chatbots\n",
    "\n",
    "Let's get started! 🚀"
   ]
  },
  {
   "cell_type": "markdown",
   "id": "8a9cef6b",
   "metadata": {},
   "source": [
    "## Setup and Imports\n",
    "\n",
    "First, let's import the necessary libraries and set up our environment."
   ]
  },
  {
   "cell_type": "code",
   "execution_count": 1,
   "id": "07d25e8c",
   "metadata": {},
   "outputs": [
    {
     "name": "stdout",
     "output_type": "stream",
     "text": [
      "\u001b[1m\u001b[33mwarning\u001b[39m\u001b[0m\u001b[1m:\u001b[0m \u001b[1mNo `requires-python` value found in the workspace. Defaulting to `>=3.12`.\u001b[0m\n",
      "\u001b[2mResolved \u001b[1m383 packages\u001b[0m \u001b[2min 0.92ms\u001b[0m\u001b[0m\n",
      "\u001b[2mAudited \u001b[1m214 packages\u001b[0m \u001b[2min 0.05ms\u001b[0m\u001b[0m\n"
     ]
    }
   ],
   "source": [
    "# Install required packages if not already installed\n",
    "!uv add langchain langchain-openai python-dotenv"
   ]
  },
  {
   "cell_type": "code",
   "execution_count": 2,
   "id": "968c5062",
   "metadata": {},
   "outputs": [
    {
     "name": "stdout",
     "output_type": "stream",
     "text": [
      "✓ Setup complete!\n"
     ]
    }
   ],
   "source": [
    "# Import necessary libraries\n",
    "from langchain_openai import ChatOpenAI\n",
    "from langchain.prompts import PromptTemplate, ChatPromptTemplate\n",
    "from langchain.schema import HumanMessage, SystemMessage\n",
    "import os\n",
    "from dotenv import load_dotenv\n",
    "\n",
    "# Load environment variables\n",
    "load_dotenv()\n",
    "\n",
    "# Initialize ChatOpenAI\n",
    "llm = ChatOpenAI(\n",
    "    model=\"gpt-3.5-turbo\",\n",
    "    temperature=0.7,\n",
    "    api_key=os.getenv(\"OPENAI_API_KEY\")\n",
    ")\n",
    "\n",
    "print(\"✓ Setup complete!\")"
   ]
  },
  {
   "cell_type": "markdown",
   "id": "0e7fefb9",
   "metadata": {},
   "source": [
    "## Part 1: Basic Prompt Templates\n",
    "\n",
    "Let's start with simple prompt templates that we can reuse for different financial queries."
   ]
  },
  {
   "cell_type": "code",
   "execution_count": 3,
   "id": "278e3ee6",
   "metadata": {},
   "outputs": [
    {
     "name": "stdout",
     "output_type": "stream",
     "text": [
      "Generated prompt:\n",
      "\n",
      "    Explain the financial term 'compound interest' in simple terms for someone with beginner \n",
      "    knowledge of finance. Use practical examples and avoid jargon.\n",
      "\n",
      "    Term: compound interest\n",
      "    User level: beginner\n",
      "\n",
      "    Explanation:\n",
      "    \n"
     ]
    }
   ],
   "source": [
    "# Create a basic prompt template for financial explanations\n",
    "explanation_template = PromptTemplate(\n",
    "    input_variables=[\"financial_term\", \"user_level\"],\n",
    "    template=\"\"\"\n",
    "    Explain the financial term '{financial_term}' in simple terms for someone with {user_level} \n",
    "    knowledge of finance. Use practical examples and avoid jargon.\n",
    "    \n",
    "    Term: {financial_term}\n",
    "    User level: {user_level}\n",
    "    \n",
    "    Explanation:\n",
    "    \"\"\"\n",
    ")\n",
    "\n",
    "# Test the template\n",
    "prompt = explanation_template.format(\n",
    "    financial_term=\"compound interest\",\n",
    "    user_level=\"beginner\"\n",
    ")\n",
    "\n",
    "print(\"Generated prompt:\")\n",
    "print(prompt)"
   ]
  },
  {
   "cell_type": "code",
   "execution_count": 4,
   "id": "3f84c6a6",
   "metadata": {},
   "outputs": [
    {
     "name": "stdout",
     "output_type": "stream",
     "text": [
      "AI Response:\n",
      "Compound interest is when the interest you earn on your money is added to your initial investment or principal, and then you earn interest on that total amount. In other words, you earn interest on both your initial money and the interest that money has already earned.\n",
      "\n",
      "    Here's an example to help understand compound interest:\n",
      "\n",
      "    Let's say you have $1000 in a savings account that earns 5% interest per year. After the first year, you would earn $50 in interest (5% of $1000). So now, you have $1050 in your account.\n",
      "\n",
      "    In the second year, instead of earning 5% interest on your initial $1000, you earn 5% interest on the new total of $1050. This means you would earn $52.50 in interest (5% of $1050), bringing your total to $1102.50.\n",
      "\n",
      "    As you can see, with compound interest, your money grows faster because you are earning interest on both your initial investment and the interest it has already earned. It's like a snowball effect that helps your money grow over time.\n"
     ]
    }
   ],
   "source": [
    "# Use the prompt with our LLM\n",
    "response = llm.invoke(prompt)\n",
    "print(\"AI Response:\")\n",
    "print(response.content)"
   ]
  },
  {
   "cell_type": "markdown",
   "id": "aed29dcf",
   "metadata": {},
   "source": [
    "## Part 2: Investment Advice Template\n",
    "\n",
    "Now let's create a more sophisticated template for investment advice."
   ]
  },
  {
   "cell_type": "code",
   "execution_count": 5,
   "id": "ee08ecbb",
   "metadata": {},
   "outputs": [
    {
     "name": "stdout",
     "output_type": "stream",
     "text": [
      "Investment Advice:\n",
      "1. Asset Allocation Recommendations:\n",
      "   - Since the client is 28 years old with a moderate risk tolerance and a long-term investment goal of retirement planning, a balanced asset allocation would be suitable. Consider allocating around 70-80% to equities for growth potential and 20-30% to fixed income for stability.\n",
      "\n",
      "2. Specific Investment Types to Consider:\n",
      "   - Equities: Consider investing in a diversified mix of individual stocks, exchange-traded funds (ETFs), or mutual funds to capture growth potential. Look into sectors with growth prospects like technology, healthcare, and consumer discretionary.\n",
      "   - Fixed Income: Invest in bonds or bond funds for stability and income generation. Consider a mix of government bonds, corporate bonds, and municipal bonds.\n",
      "\n",
      "3. Important Considerations:\n",
      "   - Diversification is key to managing risk. Spread investments across different asset classes and sectors to reduce exposure to any single risk.\n",
      "   - Regularly review and rebalance the portfolio to ensure it aligns with the client's risk tolerance and investment goals.\n",
      "   - Consider tax implications when selecting investments, such as utilizing tax-advantaged retirement accounts like a 401(k) or IRA.\n",
      "\n",
      "4. Timeline Recommendations:\n",
      "   - Given the long-term investment goal of retirement planning, the client has a significant investment horizon ahead. They can afford to take on more risk in their portfolio to potentially achieve higher returns over time. However, it's important to periodically review the portfolio and adjust the asset allocation as the client's risk tolerance may change over time.\n",
      "\n",
      "Overall, the client should focus on building a well-diversified portfolio with a mix of equities and fixed income investments that align with their risk tolerance and investment goals for retirement planning. Regular monitoring and adjustments to the portfolio will be key to long-term success.\n"
     ]
    }
   ],
   "source": [
    "# Investment advice template\n",
    "investment_template = PromptTemplate(\n",
    "    input_variables=[\"age\", \"risk_tolerance\", \"investment_amount\", \"goal\"],\n",
    "    template=\"\"\"\n",
    "    You are a financial advisor. Provide investment advice for a client with the following profile:\n",
    "    \n",
    "    Age: {age}\n",
    "    Risk Tolerance: {risk_tolerance}\n",
    "    Investment Amount: ${investment_amount}\n",
    "    Investment Goal: {goal}\n",
    "    \n",
    "    Please provide:\n",
    "    1. Asset allocation recommendations\n",
    "    2. Specific investment types to consider\n",
    "    3. Important considerations for their situation\n",
    "    4. Timeline recommendations\n",
    "    \n",
    "    Keep the advice practical and actionable.\n",
    "    \"\"\"\n",
    ")\n",
    "\n",
    "# Test with example data\n",
    "investment_prompt = investment_template.format(\n",
    "    age=28,\n",
    "    risk_tolerance=\"moderate\",\n",
    "    investment_amount=5000,\n",
    "    goal=\"retirement planning\"\n",
    ")\n",
    "\n",
    "response = llm.invoke(investment_prompt)\n",
    "print(\"Investment Advice:\")\n",
    "print(response.content)"
   ]
  },
  {
   "cell_type": "markdown",
   "id": "2faa4ccc",
   "metadata": {},
   "source": [
    "## Part 3: Financial Advisor Personas\n",
    "\n",
    "Let's create different financial advisor personas using ChatPromptTemplate for more sophisticated interactions."
   ]
  },
  {
   "cell_type": "code",
   "execution_count": 6,
   "id": "157ec5e0",
   "metadata": {},
   "outputs": [
    {
     "name": "stdout",
     "output_type": "stream",
     "text": [
      "✓ Financial advisor personas created!\n"
     ]
    }
   ],
   "source": [
    "# Conservative Financial Advisor Persona\n",
    "conservative_advisor = ChatPromptTemplate.from_messages([\n",
    "    (\"system\", \"\"\"\n",
    "    You are a conservative financial advisor with 20 years of experience. \n",
    "    Your approach is:\n",
    "    - Risk-averse and safety-focused\n",
    "    - Emphasizes emergency funds and stable investments\n",
    "    - Prefers bonds, CDs, and blue-chip stocks\n",
    "    - Always mentions potential risks\n",
    "    - Speaks in a cautious, measured tone\n",
    "    \n",
    "    Always start your response with \"Based on my conservative approach...\"\n",
    "    \"\"\"),\n",
    "    (\"human\", \"{user_question}\")\n",
    "])\n",
    "\n",
    "# Aggressive Growth Advisor Persona\n",
    "growth_advisor = ChatPromptTemplate.from_messages([\n",
    "    (\"system\", \"\"\"\n",
    "    You are an aggressive growth financial advisor who targets high returns.\n",
    "    Your approach is:\n",
    "    - Growth-focused and opportunity-seeking\n",
    "    - Emphasizes stocks, ETFs, and growth investments\n",
    "    - Willing to take calculated risks for higher returns\n",
    "    - Optimistic about market potential\n",
    "    - Speaks with enthusiasm and confidence\n",
    "    \n",
    "    Always start your response with \"Looking at growth opportunities...\"\n",
    "    \"\"\"),\n",
    "    (\"human\", \"{user_question}\")\n",
    "])\n",
    "\n",
    "# Balanced Advisor Persona\n",
    "balanced_advisor = ChatPromptTemplate.from_messages([\n",
    "    (\"system\", \"\"\"\n",
    "    You are a balanced financial advisor who takes a moderate approach.\n",
    "    Your approach is:\n",
    "    - Balanced between growth and security\n",
    "    - Emphasizes diversification\n",
    "    - Considers both short-term and long-term goals\n",
    "    - Practical and realistic\n",
    "    - Speaks in a balanced, informative tone\n",
    "    \n",
    "    Always start your response with \"Taking a balanced perspective...\"\n",
    "    \"\"\"),\n",
    "    (\"human\", \"{user_question}\")\n",
    "])\n",
    "\n",
    "print(\"✓ Financial advisor personas created!\")"
   ]
  },
  {
   "cell_type": "markdown",
   "id": "8c7a9b2b",
   "metadata": {},
   "source": [
    "## Part 4: Testing Different Personas\n",
    "\n",
    "Let's test how each persona responds to the same financial question."
   ]
  },
  {
   "cell_type": "code",
   "execution_count": 7,
   "id": "df75eb3b",
   "metadata": {},
   "outputs": [
    {
     "name": "stdout",
     "output_type": "stream",
     "text": [
      "Question: I'm 25 years old and just got my first job. I have $10,000 to invest. What should I do?\n",
      "\n",
      "==================================================\n",
      "\n",
      "CONSERVATIVE ADVISOR:\n",
      "Based on my conservative approach, congratulations on starting your first job and considering investing! Given your age and financial situation, here's what I recommend:\n",
      "\n",
      "1. **Build an Emergency Fund**: Before investing, make sure you have enough savings to cover at least 3-6 months of living expenses in case of emergencies.\n",
      "\n",
      "2. **Consider a High-Yield Savings Account or CD**: Since you're just starting out and may need access to your funds, consider putting a portion of your $10,000 in a high-yield savings account or a Certificate of Deposit (CD) for better interest rates than a regular savings account.\n",
      "\n",
      "3. **Invest in Bond Funds**: Bonds are generally considered safer investments than stocks. You can look into investing in bond funds, such as Treasury bonds or corporate bonds, for potential stable returns over time.\n",
      "\n",
      "4. **Diversify with Blue-Chip Stocks**: While stocks carry more risk, blue-chip stocks of well-established, financially stable companies can be a good addition to your portfolio. Look for companies with strong track records of performance and dividends.\n",
      "\n",
      "5. **Consult with a Financial Advisor**: Since investing involves risks, it's essential to consult with a financial advisor who can provide personalized advice based on your financial goals and risk tolerance.\n",
      "\n",
      "Remember, investing is a long-term commitment, and it's essential to stay informed about your investments and review your portfolio regularly. If you have any specific financial goals or concerns, feel free to share them for more tailored advice.\n",
      "\n",
      "------------------------------\n",
      "\n",
      "GROWTH ADVISOR:\n",
      "Looking at growth opportunities, congratulations on starting your investment journey at such a young age with $10,000! Given your age and risk tolerance, I would recommend focusing on high-growth potential investments like stocks and ETFs.\n",
      "\n",
      "Here's a suggested strategy for you:\n",
      "1. Consider investing in a diversified portfolio of growth stocks from sectors like technology, healthcare, and consumer discretionary. Look for companies with strong earnings growth potential.\n",
      "2. Allocate a portion of your funds towards growth-oriented ETFs that track indices like the S&P 500 or Nasdaq, offering exposure to a broader range of growth stocks.\n",
      "3. Keep an eye out for emerging market opportunities that could offer higher growth potential but also come with higher risks. Consider investing a small portion of your funds in these markets.\n",
      "4. Regularly review and adjust your portfolio to capitalize on new growth opportunities and ensure proper diversification.\n",
      "\n",
      "Remember, as a young investor, you have the advantage of time on your side to ride out market fluctuations and benefit from the power of compounding returns. Stay optimistic and confident in your investment decisions, and don't hesitate to take calculated risks for the chance of higher returns. Good luck on your investment journey!\n",
      "\n",
      "------------------------------\n",
      "\n",
      "BALANCED ADVISOR:\n",
      "Taking a balanced perspective, congratulations on starting your first job and having $10,000 to invest at a young age. It's great that you're thinking about your financial future early on. Here are some suggestions on what you could consider doing with your investment:\n",
      "\n",
      "1. **Emergency Fund**: Before investing, make sure you have an emergency fund set up with at least 3-6 months' worth of living expenses. This fund should be easily accessible in case of unexpected expenses.\n",
      "\n",
      "2. **Diversified Portfolio**: Consider creating a diversified investment portfolio that balances growth and security. This could include a mix of stocks, bonds, and possibly other investments like real estate or mutual funds. Diversification helps spread risk and can provide a more stable return over time.\n",
      "\n",
      "3. **Long-Term Goals**: Since you are young, you have a longer time horizon to invest. You could consider allocating a portion of your investment towards long-term goals such as retirement. Investing in growth-oriented assets like stocks can potentially provide higher returns over the long run.\n",
      "\n",
      "4. **Short-Term Goals**: If you have any short-term goals like buying a car or going on a trip, you may want to allocate a portion of your investment towards more stable assets like bonds or a high-yield savings account to ensure the funds are accessible when needed.\n",
      "\n",
      "5. **Consult a Financial Advisor**: It might be beneficial to consult a financial advisor who can help you create a personalized investment plan based on your risk tolerance, financial goals, and time horizon. They can provide guidance on how to best allocate your $10,000 investment to meet your objectives.\n",
      "\n",
      "Remember, investing always carries some level of risk, so it's important to be informed and make decisions that align with your financial goals and risk tolerance. Start with a plan, stay diversified, and regularly review and adjust your investment strategy as needed.\n"
     ]
    }
   ],
   "source": [
    "# Test question\n",
    "test_question = \"I'm 25 years old and just got my first job. I have $10,000 to invest. What should I do?\"\n",
    "\n",
    "print(\"Question:\", test_question)\n",
    "print(\"\\n\" + \"=\"*50 + \"\\n\")\n",
    "\n",
    "# Conservative advisor response\n",
    "conservative_prompt = conservative_advisor.format_prompt(user_question=test_question)\n",
    "conservative_response = llm.invoke(conservative_prompt.to_messages())\n",
    "print(\"CONSERVATIVE ADVISOR:\")\n",
    "print(conservative_response.content)\n",
    "print(\"\\n\" + \"-\"*30 + \"\\n\")\n",
    "\n",
    "# Growth advisor response\n",
    "growth_prompt = growth_advisor.format_prompt(user_question=test_question)\n",
    "growth_response = llm.invoke(growth_prompt.to_messages())\n",
    "print(\"GROWTH ADVISOR:\")\n",
    "print(growth_response.content)\n",
    "print(\"\\n\" + \"-\"*30 + \"\\n\")\n",
    "\n",
    "# Balanced advisor response\n",
    "balanced_prompt = balanced_advisor.format_prompt(user_question=test_question)\n",
    "balanced_response = llm.invoke(balanced_prompt.to_messages())\n",
    "print(\"BALANCED ADVISOR:\")\n",
    "print(balanced_response.content)"
   ]
  },
  {
   "cell_type": "markdown",
   "id": "7962fce1",
   "metadata": {},
   "source": [
    "## Part 5: Interactive Persona Selection\n",
    "\n",
    "Let's create a function that allows users to choose their preferred advisor persona."
   ]
  },
  {
   "cell_type": "code",
   "execution_count": 8,
   "id": "cb36e5d2",
   "metadata": {},
   "outputs": [
    {
     "name": "stdout",
     "output_type": "stream",
     "text": [
      "Question: Should I invest in cryptocurrency?\n",
      "\n",
      "CONSERVATIVE ADVISOR:\n",
      "Based on my conservative approach, I would advise caution when considering investing in cryptocurrency. Cryptocurrency markets are highly volatile and speculative, which can lead to significant financial losses. As a risk-averse investor, it's important to prioritize stability and security in your investments. I would recommend focusing on more traditional and stable investment options such as bonds, CDs, and blue-chip stocks that align with your long-term financial goals. If you decide to invest in cryptocurrency, please be aware of the potential risks involved and consider only allocating a small portion of your overall investment portfolio to such high-risk assets.\n",
      "\n",
      "----------------------------------------\n",
      "\n",
      "GROWTH ADVISOR:\n",
      "Looking at growth opportunities, investing in cryptocurrency can be a high-risk, high-reward opportunity. Cryptocurrencies have shown significant growth potential in recent years, but they are also known for their volatility. If you are willing to take calculated risks for the potential of higher returns and are optimistic about the future of digital assets, investing in cryptocurrency could be a part of your growth-focused investment strategy. However, it's essential to thoroughly research and understand the market before making any investment decisions.\n",
      "\n",
      "----------------------------------------\n",
      "\n",
      "BALANCED ADVISOR:\n",
      "Taking a balanced perspective, investing in cryptocurrency can offer potential growth opportunities, but it also comes with high volatility and risks. It's important to consider your risk tolerance, financial goals, and investment timeframe before deciding. \n",
      "\n",
      "Diversification is key to managing risk, so if you choose to invest in cryptocurrency, it should only be a portion of your overall investment portfolio. It's also wise to stay informed about the market trends, regulations, and security measures in the cryptocurrency space.\n",
      "\n",
      "Ultimately, it's essential to approach cryptocurrency investment with caution and consider consulting with a financial advisor to ensure it aligns with your overall investment strategy and risk profile.\n",
      "\n",
      "----------------------------------------\n",
      "\n"
     ]
    }
   ],
   "source": [
    "def get_financial_advice(question, advisor_type=\"balanced\"):\n",
    "    \"\"\"\n",
    "    Get financial advice from different advisor personas.\n",
    "    \n",
    "    Args:\n",
    "        question (str): The user's financial question\n",
    "        advisor_type (str): Type of advisor - 'conservative', 'growth', or 'balanced'\n",
    "    \n",
    "    Returns:\n",
    "        str: The advisor's response\n",
    "    \"\"\"\n",
    "    \n",
    "    advisors = {\n",
    "        \"conservative\": conservative_advisor,\n",
    "        \"growth\": growth_advisor,\n",
    "        \"balanced\": balanced_advisor\n",
    "    }\n",
    "    \n",
    "    if advisor_type not in advisors:\n",
    "        return \"Please choose from: conservative, growth, or balanced\"\n",
    "    \n",
    "    selected_advisor = advisors[advisor_type]\n",
    "    prompt = selected_advisor.format_prompt(user_question=question)\n",
    "    response = llm.invoke(prompt.to_messages())\n",
    "    \n",
    "    return response.content\n",
    "\n",
    "# Test the function\n",
    "question = \"Should I invest in cryptocurrency?\"\n",
    "print(f\"Question: {question}\\n\")\n",
    "\n",
    "for advisor_type in [\"conservative\", \"growth\", \"balanced\"]:\n",
    "    print(f\"{advisor_type.upper()} ADVISOR:\")\n",
    "    advice = get_financial_advice(question, advisor_type)\n",
    "    print(advice)\n",
    "    print(\"\\n\" + \"-\"*40 + \"\\n\")"
   ]
  },
  {
   "cell_type": "markdown",
   "id": "3a226833",
   "metadata": {},
   "source": [
    "## Summary\n",
    "\n",
    "In this notebook, we learned about:\n",
    "\n",
    "### Key Concepts:\n",
    "- **PromptTemplate**: Creating reusable templates with variables\n",
    "- **ChatPromptTemplate**: More sophisticated templates with system and human messages\n",
    "- **Personas**: Creating different AI personalities for specialized advice\n",
    "- **Variable Substitution**: Using placeholders in templates for dynamic content\n",
    "\n",
    "### Financial Applications:\n",
    "- Financial term explanations\n",
    "- Investment advice templates\n",
    "- Different advisor personas (conservative, growth, balanced)\n",
    "- Interactive advisor selection\n",
    "\n",
    "### Best Practices:\n",
    "- Use clear variable names in templates\n",
    "- Create distinct personas with specific characteristics\n",
    "- Test templates with various inputs\n",
    "- Structure prompts for consistent outputs\n",
    "- Make templates reusable and modular\n",
    "\n",
    "### Next Steps:\n",
    "- Practice creating your own templates\n",
    "- Experiment with different persona characteristics\n",
    "- Combine templates for more complex workflows\n",
    "- Move on to the next notebook: **03_chains_and_memory.ipynb**\n",
    "\n",
    "Great job completing Exercise 2! 🎉"
   ]
  }
 ],
 "metadata": {
  "kernelspec": {
   "display_name": "code",
   "language": "python",
   "name": "python3"
  },
  "language_info": {
   "codemirror_mode": {
    "name": "ipython",
    "version": 3
   },
   "file_extension": ".py",
   "mimetype": "text/x-python",
   "name": "python",
   "nbconvert_exporter": "python",
   "pygments_lexer": "ipython3",
   "version": "3.12.1"
  }
 },
 "nbformat": 4,
 "nbformat_minor": 5
}
