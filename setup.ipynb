{
 "cells": [
  {
   "cell_type": "markdown",
   "id": "ab1c18d4",
   "metadata": {},
   "source": [
    "# Project Setup Notebook\n",
    "This notebook automates the creation of a basic project file structure and sets up essential Python tools for your workspace."
   ]
  },
  {
   "cell_type": "markdown",
   "id": "e1abe831",
   "metadata": {},
   "source": [
    "## Install uv - Fast Python Package Manager\n",
    "uv is a fast Python package installer and resolver, written in Rust. It's designed as a drop-in replacement for pip that's significantly faster and more reliable."
   ]
  },
  {
   "cell_type": "code",
   "execution_count": 1,
   "id": "64efbe50",
   "metadata": {},
   "outputs": [
    {
     "name": "stdout",
     "output_type": "stream",
     "text": [
      "Error installing uv: Command '['/workspaces/Summerschool_BAI_2025/.venv/bin/python', '-m', 'pip', 'install', 'uv']' returned non-zero exit status 1.\n"
     ]
    },
    {
     "name": "stderr",
     "output_type": "stream",
     "text": [
      "/workspaces/Summerschool_BAI_2025/.venv/bin/python: No module named pip\n"
     ]
    }
   ],
   "source": [
    "# Install uv\n",
    "import subprocess\n",
    "import sys\n",
    "\n",
    "try:\n",
    "    subprocess.check_call([sys.executable, \"-m\", \"pip\", \"install\", \"uv\"])\n",
    "    print(\"✓ uv installed successfully!\")\n",
    "except subprocess.CalledProcessError as e:\n",
    "    print(f\"Error installing uv: {e}\")"
   ]
  },
  {
   "cell_type": "markdown",
   "id": "e8594076",
   "metadata": {},
   "source": [
    "### How to use uv\n",
    "Once installed, you can use uv instead of pip for package management:\n",
    "- `uv pip install package_name` - Install a package\n",
    "- `uv pip install -r requirements.txt` - Install from requirements file\n",
    "- `uv pip freeze` - List installed packages\n",
    "- `uv pip uninstall package_name` - Uninstall a package\n",
    "\n",
    "uv is typically 10-100x faster than pip for package installation and resolution."
   ]
  },
  {
   "cell_type": "markdown",
   "id": "78729e28",
   "metadata": {},
   "source": [
    "### Working with Existing uv Projects\n",
    "If you're working with an existing project that uses uv, here's how to get started:\n",
    "\n",
    "1. **View project info**: Check `pyproject.toml` file - Contains project metadata, dependencies, and configuration\n",
    "2. **Sync dependencies**: `uv sync` - Install all dependencies from `pyproject.toml`\n",
    "3. **Activate virtual environment**: `uv shell` - Enter the project's virtual environment\n",
    "4. **Run scripts**: `uv run script.py` - Run Python scripts within the project environment\n",
    "5. **Add dependencies**: `uv add package_name` - Add new packages to the project\n",
    "6. **Check project status**: `uv tree` - View dependency tree"
   ]
  },
  {
   "cell_type": "markdown",
   "id": "ec3fd440",
   "metadata": {},
   "source": [
    "### Try uv sync on Current Directory\n",
    "Let's check if there's a `pyproject.toml` file in the current directory and sync its dependencies. If no file exists, uv will let us know."
   ]
  },
  {
   "cell_type": "markdown",
   "id": "14c26fac",
   "metadata": {},
   "source": [
    "### HOWEVER WE FIRST NEED TO Install System Audio Libraries\n",
    "Before syncing Python dependencies, we need to install system-level audio libraries that are commonly required for audio processing packages like PyAudio, sounddevice, or other audio-related Python libraries."
   ]
  },
  {
   "cell_type": "code",
   "execution_count": 2,
   "id": "f6b4b519",
   "metadata": {},
   "outputs": [
    {
     "name": "stdout",
     "output_type": "stream",
     "text": [
      "Get:1 http://security.ubuntu.com/ubuntu noble-security InRelease [126 kB]\n",
      "Hit:2 https://dl.yarnpkg.com/debian stable InRelease                           \n",
      "Get:3 https://packages.microsoft.com/repos/microsoft-ubuntu-noble-prod noble InRelease [3600 B]\n",
      "Hit:4 https://repo.anaconda.com/pkgs/misc/debrepo/conda stable InRelease       \n",
      "Hit:5 http://archive.ubuntu.com/ubuntu noble InRelease\n",
      "Get:6 http://archive.ubuntu.com/ubuntu noble-updates InRelease [126 kB]\n",
      "Get:7 http://archive.ubuntu.com/ubuntu noble-backports InRelease [126 kB]\n",
      "Get:8 https://packages.microsoft.com/repos/microsoft-ubuntu-noble-prod noble/main amd64 Packages [39.0 kB]\n",
      "Get:9 http://security.ubuntu.com/ubuntu noble-security/restricted amd64 Packages [1735 kB]\n",
      "Get:10 http://security.ubuntu.com/ubuntu noble-security/universe amd64 Packages [1123 kB]\n",
      "Get:11 http://security.ubuntu.com/ubuntu noble-security/main amd64 Packages [1237 kB]\n",
      "Get:12 http://archive.ubuntu.com/ubuntu noble-updates/restricted amd64 Packages [1793 kB]\n",
      "Get:13 http://archive.ubuntu.com/ubuntu noble-updates/main amd64 Packages [1564 kB]\n",
      "Get:14 http://archive.ubuntu.com/ubuntu noble-updates/universe amd64 Packages [1432 kB]\n",
      "Get:15 http://archive.ubuntu.com/ubuntu noble-backports/main amd64 Packages [77.9 kB]\n",
      "Get:16 http://archive.ubuntu.com/ubuntu noble-backports/universe amd64 Packages [37.2 kB]\n",
      "Fetched 9420 kB in 3s (2923 kB/s)                            \n",
      "Reading package lists... Done\n",
      "Reading package lists... Done\n",
      "Building dependency tree... Done\n",
      "Reading state information... Done\n",
      "Note, selecting 'libasound2-dev' instead of 'libasound-dev'\n",
      "portaudio19-dev is already the newest version (19.6.0-1.2build3).\n",
      "libasound2-dev is already the newest version (1.2.11-1ubuntu0.1).\n",
      "0 upgraded, 0 newly installed, 0 to remove and 55 not upgraded.\n"
     ]
    }
   ],
   "source": [
    "# Install system audio libraries\n",
    "!sudo apt-get update && sudo apt-get install -y portaudio19-dev libasound-dev"
   ]
  },
  {
   "cell_type": "markdown",
   "id": "813ef227",
   "metadata": {},
   "source": [
    "### Now We're Ready to Sync Dependencies\n",
    "With the system audio libraries installed, we can now safely sync any Python dependencies that might require them."
   ]
  },
  {
   "cell_type": "code",
   "execution_count": 3,
   "id": "b74932f5",
   "metadata": {},
   "outputs": [
    {
     "name": "stdout",
     "output_type": "stream",
     "text": [
      "\u001b[1m\u001b[33mwarning\u001b[39m\u001b[0m\u001b[1m:\u001b[0m \u001b[1mNo `requires-python` value found in the workspace. Defaulting to `>=3.12`.\u001b[0m\n",
      "\u001b[2mResolved \u001b[1m393 packages\u001b[0m \u001b[2min 47ms\u001b[0m\u001b[0m\n",
      "\u001b[2mAudited \u001b[1m224 packages\u001b[0m \u001b[2min 0.18ms\u001b[0m\u001b[0m\n"
     ]
    }
   ],
   "source": [
    "# Sync dependencies from pyproject.toml (if it exists)\n",
    "!uv sync"
   ]
  },
  {
   "cell_type": "markdown",
   "id": "79fcbd9c",
   "metadata": {},
   "source": [
    "### Create .gitignore File\n",
    "Let's create a .gitignore file to exclude common files and directories that shouldn't be tracked in version control."
   ]
  },
  {
   "cell_type": "code",
   "execution_count": 4,
   "id": "2e1daf6c",
   "metadata": {},
   "outputs": [
    {
     "name": "stdout",
     "output_type": "stream",
     "text": [
      "✓ .gitignore created with .env and venv entries!\n"
     ]
    }
   ],
   "source": [
    "# Create .gitignore with common Python ignores\n",
    "gitignore_content = \"\"\".env\n",
    "venv/\n",
    "__pycache__/\n",
    "*.pyc\n",
    "*.pyo\n",
    "*.pyd\n",
    ".Python\n",
    "build/\n",
    "develop-eggs/\n",
    "dist/\n",
    "downloads/\n",
    "eggs/\n",
    ".eggs/\n",
    "lib/\n",
    "lib64/\n",
    "parts/\n",
    "sdist/\n",
    "var/\n",
    "wheels/\n",
    "*.egg-info/\n",
    ".installed.cfg\n",
    "*.egg\n",
    "MANIFEST\n",
    "*.ipynb_checkpoints/\n",
    ".DS_Store\n",
    "\"\"\"\n",
    "\n",
    "with open('.gitignore', 'w') as f:\n",
    "    f.write(gitignore_content)\n",
    "    \n",
    "print(\"✓ .gitignore created with .env and venv entries!\")"
   ]
  },
  {
   "cell_type": "markdown",
   "id": "770a8942",
   "metadata": {},
   "source": [
    "### Set Up Environment Variables\n",
    "Let's create a .env file to store your OpenAI API key securely. This file is already in our .gitignore, so it won't be committed to version control."
   ]
  },
  {
   "cell_type": "code",
   "execution_count": 5,
   "id": "7e4dfd55",
   "metadata": {},
   "outputs": [
    {
     "name": "stdout",
     "output_type": "stream",
     "text": [
      "✓ OpenAI API key already exists in .env file!\n"
     ]
    }
   ],
   "source": [
    "# Prompt for OpenAI API key and save to .env file\n",
    "import getpass\n",
    "import os\n",
    "\n",
    "# Check if .env already exists and has OPENAI_API_KEY\n",
    "env_exists = os.path.exists('.env')\n",
    "has_openai_key = False\n",
    "\n",
    "if env_exists:\n",
    "    with open('.env', 'r') as f:\n",
    "        content = f.read()\n",
    "        has_openai_key = 'OPENAI_API_KEY' in content\n",
    "\n",
    "if not has_openai_key:\n",
    "    print(\"Please enter your OpenAI API key:\")\n",
    "    api_key = getpass.getpass(\"OpenAI API Key: \")\n",
    "    \n",
    "    # Append to .env file\n",
    "    with open('.env', 'a') as f:\n",
    "        f.write(f\"\\nOPENAI_API_KEY={api_key}\\n\")\n",
    "    \n",
    "    print(\"✓ OpenAI API key saved to .env file!\")\n",
    "else:\n",
    "    print(\"✓ OpenAI API key already exists in .env file!\")"
   ]
  },
  {
   "cell_type": "markdown",
   "id": "d13b018e",
   "metadata": {},
   "source": [
    "### 🎉 Setup Complete!\n",
    "**Setup done for working this project with collab!**\n",
    "\n",
    "You're now ready to:\n",
    "- Work with uv for fast package management\n",
    "- Use audio libraries without compilation issues\n",
    "- Keep sensitive data secure with .env\n",
    "- Collaborate safely with proper .gitignore\n",
    "\n",
    "Happy coding! 🚀"
   ]
  }
 ],
 "metadata": {
  "kernelspec": {
   "display_name": "code",
   "language": "python",
   "name": "python3"
  },
  "language_info": {
   "codemirror_mode": {
    "name": "ipython",
    "version": 3
   },
   "file_extension": ".py",
   "mimetype": "text/x-python",
   "name": "python",
   "nbconvert_exporter": "python",
   "pygments_lexer": "ipython3",
   "version": "3.12.1"
  }
 },
 "nbformat": 4,
 "nbformat_minor": 5
}
